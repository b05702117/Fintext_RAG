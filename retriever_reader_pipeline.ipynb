{
 "cells": [
  {
   "cell_type": "code",
   "execution_count": 1,
   "metadata": {},
   "outputs": [
    {
     "name": "stderr",
     "output_type": "stream",
     "text": [
      "/home/ybtu/miniconda3/envs/pyserini/lib/python3.10/site-packages/tqdm/auto.py:21: TqdmWarning: IProgress not found. Please update jupyter and ipywidgets. See https://ipywidgets.readthedocs.io/en/stable/user_install.html\n",
      "  from .autonotebook import tqdm as notebook_tqdm\n",
      "Some weights of the model checkpoint at facebook/dpr-question_encoder-multiset-base were not used when initializing DPRQuestionEncoder: ['question_encoder.bert_model.pooler.dense.weight', 'question_encoder.bert_model.pooler.dense.bias']\n",
      "- This IS expected if you are initializing DPRQuestionEncoder from the checkpoint of a model trained on another task or with another architecture (e.g. initializing a BertForSequenceClassification model from a BertForPreTraining model).\n",
      "- This IS NOT expected if you are initializing DPRQuestionEncoder from the checkpoint of a model that you expect to be exactly identical (initializing a BertForSequenceClassification model from a BertForSequenceClassification model).\n"
     ]
    }
   ],
   "source": [
    "import utils\n",
    "import os\n",
    "import json\n",
    "import torch\n",
    "import numpy as np\n",
    "\n",
    "from pyserini.search.lucene import LuceneSearcher\n",
    "from pyserini.search.faiss import FaissSearcher, DprQueryEncoder\n",
    "\n",
    "from models import DenseDocumentRetriever, SparseDocumentRetriever\n",
    "from models import DprHighlighter, CncBertHighlighter\n",
    "from models import DprReader\n",
    "\n",
    "from config import ROOT, RAW_DIR, FORMMATED_DIR, INDEX_DIR\n",
    "\n",
    "# sparse searcher\n",
    "sparse_searcher = LuceneSearcher(f\"{INDEX_DIR}/multi_fields\")\n",
    "# dense searcher\n",
    "query_encoder = DprQueryEncoder(\"facebook/dpr-question_encoder-multiset-base\")\n",
    "dense_searcher = FaissSearcher(f\"{INDEX_DIR}/dpr-ctx_encoder-multiset-base\", query_encoder)\n"
   ]
  },
  {
   "cell_type": "code",
   "execution_count": 2,
   "metadata": {},
   "outputs": [],
   "source": [
    "def generate_statistics_summary(titles):\n",
    "    # Count the number of documents retrieved\n",
    "    statistics_summary = {'year': dict(), 'form': dict(), 'cik': dict(), 'part': dict(), 'item': dict()}\n",
    "\n",
    "    for title in titles:\n",
    "        title_parts = title.split('_')\n",
    "        year, form, cik, part, item = title_parts[0][:4], title_parts[1], title_parts[2], title_parts[3], title_parts[4]\n",
    "\n",
    "        for category, value in zip(['year', 'form', 'cik', 'part', 'item'], [year, form, cik, part, item]):\n",
    "            statistics_summary[category].setdefault(value, 0)\n",
    "            statistics_summary[category][value] += 1\n",
    "\n",
    "    return statistics_summary\n",
    "\n",
    "def print_hits(hits, display_top_n=10):\n",
    "    for i in range(display_top_n):\n",
    "        print(f'{i+1:2} {hits[i].docid:7} {hits[i].score:.5f}')\n",
    "        print(utils.retrieve_paragraph_from_docid(hits[i].docid))\n",
    "    print()\n"
   ]
  },
  {
   "cell_type": "markdown",
   "metadata": {},
   "source": [
    "# Retriever-Highlighter"
   ]
  },
  {
   "cell_type": "code",
   "execution_count": 3,
   "metadata": {},
   "outputs": [
    {
     "name": "stdout",
     "output_type": "stream",
     "text": [
      "target title: Microsoft Corp 2022 Q4 10-Q\n",
      "On January 18, 2022, we entered into a definitive agreement to acquire Activision Blizzard, Inc. Activision Blizzard for 95.00 per share in an all-cash transaction valued at 68.7 billion, inclusive of Activision Blizzard s net cash. The acquisition has been approved by Activision Blizzard s shareholders, and we expect it to close in fiscal year 2023, subject to the satisfaction of certain regulatory approvals and other customary closing conditions.\n"
     ]
    }
   ],
   "source": [
    "target_paragraph = utils.retrieve_paragraph_from_docid(\"20221025_10-Q_789019_part1_item2_para334\")\n",
    "target_title = utils.convert_docid_to_title(\"20221025_10-Q_789019_part1_item2_para334\")\n",
    "print(f\"target title: {target_title}\")\n",
    "print(target_paragraph)"
   ]
  },
  {
   "cell_type": "markdown",
   "metadata": {},
   "source": [
    "## Retriever"
   ]
  },
  {
   "cell_type": "code",
   "execution_count": 4,
   "metadata": {},
   "outputs": [
    {
     "name": "stdout",
     "output_type": "stream",
     "text": [
      "\n",
      "Target: On January 18, 2022, we entered into a definitive agreement to acquire Activision Blizzard, Inc. Activision Blizzard for 95.00 per share in an all-cash transaction valued at 68.7 billion, inclusive of Activision Blizzard s net cash. The acquisition has been approved by Activision Blizzard s shareholders, and we expect it to close in fiscal year 2023, subject to the satisfaction of certain regulatory approvals and other customary closing conditions.\n",
      "\n",
      "Retrieval results from sparse retriever:\n",
      " 1 20221025_10-Q_789019_part1_item2_para334 51.17300\n",
      "On January 18, 2022, we entered into a definitive agreement to acquire Activision Blizzard, Inc. Activision Blizzard for 95.00 per share in an all-cash transaction valued at 68.7 billion, inclusive of Activision Blizzard s net cash. The acquisition has been approved by Activision Blizzard s shareholders, and we expect it to close in fiscal year 2023, subject to the satisfaction of certain regulatory approvals and other customary closing conditions.\n",
      " 2 20220125_10-Q_789019_part1_item2_para474 50.51090\n",
      "On January 18, 2022, we entered into a definitive agreement to acquire Activision Blizzard, Inc. Activision Blizzard for 95.00 per share in an all-cash transaction valued at 68.7 billion, inclusive of Activision Blizzard s net cash. We expect this acquisition to close in fiscal year 2023, subject to approval by Activision Blizzard s shareholders, the satisfaction of certain regulatory approvals, and other customary closing conditions.\n",
      " 3 20220426_10-Q_789019_part1_item2_para492 50.51090\n",
      "On January 18, 2022, we entered into a definitive agreement to acquire Activision Blizzard, Inc. Activision Blizzard for 95.00 per share in an all-cash transaction valued at 68.7 billion, inclusive of Activision Blizzard s net cash. We expect this acquisition to close in fiscal year 2023, subject to approval by Activision Blizzard s shareholders, the satisfaction of certain regulatory approvals, and other customary closing conditions.\n",
      " 4 20221025_10-Q_789019_part1_item1_para158 43.26390\n",
      "On , we entered into a definitive agreement to acquire Activision Blizzard, Inc. Activision Blizzard for per share in an all-cash transaction valued at billion, inclusive of Activision Blizzard s net cash. Activision Blizzard is a leader in game development and an interactive entertainment content publisher. The acquisition will accelerate the growth in our gaming business across mobile, PC, console, and cloud and will provide building blocks for the metaverse. The acquisition has been approved by Activision Blizzard s shareholders, and we expect it to close in fiscal year 2023, subject to the satisfaction of certain regulatory approvals and other customary closing conditions.\n",
      " 5 20220426_10-Q_789019_part1_item1_para169 42.16490\n",
      "On , we entered into a definitive agreement to acquire Activision Blizzard, Inc. Activision Blizzard for per share in an all-cash transaction valued at billion, inclusive of Activision Blizzard s net cash. Activision Blizzard is a leader in game development and an interactive entertainment content publisher. The acquisition will accelerate the growth in our gaming business across mobile, PC, console, and cloud and will provide building blocks for the metaverse. We expect this acquisition to close in fiscal year 2023, subject to approval by Activision Blizzard s shareholders, the satisfaction of certain regulatory approvals, and other customary closing conditions.\n",
      " 6 20220125_10-Q_789019_part1_item1_para289 37.72910\n",
      "billion and billion for the three and six months ended December 31, 2021, respectively, and billion and billion for the three and six months ended December 31, 2020, respectively. These amounts are primarily included in Server products and cloud services, Office products and cloud services, and LinkedIn in the table above. , we entered into a definitive agreement to acquire Activision Blizzard, Inc. Activision Blizzard for per share in an all-cash transaction valued at billion, inclusive of Activision Blizzard s net cash. Activision Blizzard is a leader in game development and an interactive entertainment content publisher. The acquisition will accelerate the growth in our gaming business across mobile, PC, console, and cloud and will provide building blocks for the metaverse. We expect this acquisition to close in fiscal year 2023, subject to approval by Activision Blizzard s shareholders, the satisfaction of certain regulatory approvals, and other customary closing conditions.\n",
      " 7 20220125_10-Q_789019_part1_item2_para475 27.78250\n",
      "On April 11, 2021, we entered into a definitive agreement to acquire Nuance Communications, Inc. Nuance for 56.00 per share in an all-cash transaction valued at 19.7 billion, inclusive of Nuance s net debt. The acquisition has been approved by Nuance s shareholders, and we expect it to close in the third quarter of fiscal year 2022, subject to the satisfaction of certain regulatory approvals and other customary closing conditions.\n",
      " 8 20211026_10-Q_789019_part1_item2_para340 27.01450\n",
      "On April 11, 2021, we entered into a definitive agreement to acquire Nuance Communications, Inc. Nuance for 56.00 per share in an all-cash transaction valued at 19.7 billion, inclusive of Nuance s net debt. The acquisition has been approved by Nuance s shareholders, and we expect it to close by the end of the second quarter or early in the third quarter of fiscal year 2022, subject to the satisfaction of certain regulatory approvals and other customary closing conditions.\n",
      " 9 20220125_10-Q_789019_part1_item1_para153 26.25560\n",
      "On , we entered into a definitive agreement to acquire Nuance Communications, Inc. Nuance for per share in an all-cash transaction valued at billion, inclusive of Nuance s net debt. Nuance is a cloud and artificial intelligence AI software provider with healthcare and enterprise AI experience, and the acquisition will build on our industry-specific cloud offerings. The acquisition has been approved by Nuance s shareholders, and we expect it to close in the third quarter of fiscal year 2022, subject to the satisfaction of certain regulatory approvals and other customary closing conditions.\n",
      "10 20210427_10-Q_789019_part1_item2_para481 25.94910\n",
      "On April 11, 2021, we entered into a definitive agreement to acquire Nuance Communications, Inc. Nuance for 56.00 per share in an all-cash transaction valued at 19.7 billion, inclusive of Nuance s net debt. We expect this acquisition to close by the end of calendar year 2021, subject to approval by Nuance s shareholders, the satisfaction of certain regulatory approvals, and other customary closing conditions.\n",
      "\n",
      "\n",
      "Retrieval results from dense retriever:\n",
      " 1 20221025_10-Q_789019_part1_item2_para334 93.43729\n",
      "On January 18, 2022, we entered into a definitive agreement to acquire Activision Blizzard, Inc. Activision Blizzard for 95.00 per share in an all-cash transaction valued at 68.7 billion, inclusive of Activision Blizzard s net cash. The acquisition has been approved by Activision Blizzard s shareholders, and we expect it to close in fiscal year 2023, subject to the satisfaction of certain regulatory approvals and other customary closing conditions.\n",
      " 2 20220426_10-Q_789019_part1_item2_para492 93.06296\n",
      "On January 18, 2022, we entered into a definitive agreement to acquire Activision Blizzard, Inc. Activision Blizzard for 95.00 per share in an all-cash transaction valued at 68.7 billion, inclusive of Activision Blizzard s net cash. We expect this acquisition to close in fiscal year 2023, subject to approval by Activision Blizzard s shareholders, the satisfaction of certain regulatory approvals, and other customary closing conditions.\n",
      " 3 20220125_10-Q_789019_part1_item2_para474 93.06296\n",
      "On January 18, 2022, we entered into a definitive agreement to acquire Activision Blizzard, Inc. Activision Blizzard for 95.00 per share in an all-cash transaction valued at 68.7 billion, inclusive of Activision Blizzard s net cash. We expect this acquisition to close in fiscal year 2023, subject to approval by Activision Blizzard s shareholders, the satisfaction of certain regulatory approvals, and other customary closing conditions.\n",
      " 4 20220125_10-Q_789019_part1_item1_para289 91.04510\n",
      "billion and billion for the three and six months ended December 31, 2021, respectively, and billion and billion for the three and six months ended December 31, 2020, respectively. These amounts are primarily included in Server products and cloud services, Office products and cloud services, and LinkedIn in the table above. , we entered into a definitive agreement to acquire Activision Blizzard, Inc. Activision Blizzard for per share in an all-cash transaction valued at billion, inclusive of Activision Blizzard s net cash. Activision Blizzard is a leader in game development and an interactive entertainment content publisher. The acquisition will accelerate the growth in our gaming business across mobile, PC, console, and cloud and will provide building blocks for the metaverse. We expect this acquisition to close in fiscal year 2023, subject to approval by Activision Blizzard s shareholders, the satisfaction of certain regulatory approvals, and other customary closing conditions.\n",
      " 5 20220426_10-Q_789019_part1_item1_para169 90.97601\n",
      "On , we entered into a definitive agreement to acquire Activision Blizzard, Inc. Activision Blizzard for per share in an all-cash transaction valued at billion, inclusive of Activision Blizzard s net cash. Activision Blizzard is a leader in game development and an interactive entertainment content publisher. The acquisition will accelerate the growth in our gaming business across mobile, PC, console, and cloud and will provide building blocks for the metaverse. We expect this acquisition to close in fiscal year 2023, subject to approval by Activision Blizzard s shareholders, the satisfaction of certain regulatory approvals, and other customary closing conditions.\n",
      " 6 20221025_10-Q_789019_part1_item1_para158 90.88917\n",
      "On , we entered into a definitive agreement to acquire Activision Blizzard, Inc. Activision Blizzard for per share in an all-cash transaction valued at billion, inclusive of Activision Blizzard s net cash. Activision Blizzard is a leader in game development and an interactive entertainment content publisher. The acquisition will accelerate the growth in our gaming business across mobile, PC, console, and cloud and will provide building blocks for the metaverse. The acquisition has been approved by Activision Blizzard s shareholders, and we expect it to close in fiscal year 2023, subject to the satisfaction of certain regulatory approvals and other customary closing conditions.\n",
      " 7 20220125_10-Q_789019_part2_item1a_para28 88.25479\n",
      "Acquisitions, joint ventures, and strategic alliances may have an adverse effect on our business. We expect to continue making acquisitions and entering into joint ventures and strategic alliances as part of our long-term business strategy. For example, in October 2018 we completed our acquisition of GitHub, Inc. GitHub for 7.5 billion, in March 2021 we completed our acquisition of ZeniMax Media Inc. for 8.1 billion, in April 2021 we announced a definitive agreement to acquire Nuance Communications, Inc. for 19.7 billion, and in January 2022 we announced a definitive agreement to acquire Activision Blizzard, Inc. for 68 .7 billion. These acquisitions and other transactions and arrangements involve significant challenges and risks, including that they do not advance our business strategy, that we get an unsatisfactory return on our investment, that we have difficulty integrating and retaining new employees, business systems, and technology, that they distract management from our other businesses, or that announced transactions may not be completed. If an arrangement fails to adequately anticipate changing circumstances and interests of a party, it may result in early termination or renegotiation of the arrangement. The success of these transactions and arrangements will depend in part on our ability to leverage them to enhance our existing products and services or develop compelling new ones. It may take longer than expected to realize the full benefits from these transactions and arrangements such as increased revenue or enhanced efficiencies, or the benefits may ultimately be smaller than we expected. These events could adversely affect our consolidated financial statements.\n",
      " 8 20221025_10-Q_789019_part2_item1a_para29 87.95570\n",
      "Acquisitions, joint ventures, and strategic alliances may have an adverse effect on our business. We expect to continue making acquisitions and entering into joint ventures and strategic alliances as part of our long-term business strategy. For example , in March 2021 we completed our acquisition of ZeniMax Media Inc. for 8.1 billion , and in March 2022 we completed our acquisition of Nuance Communications, Inc. for 18.8 billion . In January 2022 we announced a definitive agreement to acquire Activision Blizzard, Inc. for 68.7 billion . These acquisitions and other transactions and arrangements involve significant challenges and risks, including that they do not advance our business strategy, that we get an unsatisfactory return on our investment, that they raise new compliance-related obligations and challenges, that we have difficulty integrating and retaining new employees, business systems, and technology, that they distract management from our other businesses , or that announced transactions may not be completed . If an arrangement fails to adequately anticipate changing circumstances and interests of a party, it may result in early termination or renegotiation of the arrangement. The success of these transactions and arrangements will depend in part on our ability to leverage them to enhance our existing products and services or develop compelling new ones , as well as acquired companies ability to meet our policies and processes in areas such as data governance, privacy, and cybersecurity. It may take longer than expected to realize the full benefits from these transactions and arrangements such as increased revenue or enhanced efficiencies, or the benefits may ultimately be smaller than we expected. These events could adversely affect our consolidated financial statements .\n",
      " 9 20220426_10-Q_789019_part2_item1a_para28 87.73250\n",
      "Acquisitions, joint ventures, and strategic alliances may have an adverse effect on our business. We expect to continue making acquisitions and entering into joint ventures and strategic alliances as part of our long-term business strategy. For example, in October 2018 we completed our acquisition of GitHub, Inc. GitHub for 7.5 billion, in March 2021 we completed our acquisition of ZeniMax Media Inc. for 8.1 billion, and in March 2022 we completed our acquisition of Nuance Communications, Inc. for 18.8 billion. In January 2022 we announced a definitive agreement to acquire Activision Blizzard, Inc. for 68.7 billion. These acquisitions and other transactions and arrangements involve significant challenges and risks, including that they do not advance our business strategy, that we get an unsatisfactory return on our investment, that we have difficulty integrating and retaining new employees, business systems, and technology, that they distract management from our other businesses, or that announced transactions may not be completed. If an arrangement fails to adequately anticipate changing circumstances and interests of a party, it may result in early termination or renegotiation of the arrangement. The success of these transactions and arrangements will depend in part on our ability to leverage them to enhance our existing products and services or develop compelling new ones. It may take longer than expected to realize the full benefits from these transactions and arrangements such as increased revenue or enhanced efficiencies, or the benefits may ultimately be smaller than we expected. These events could adversely affect our consolidated financial statements.\n",
      "10 20220125_10-Q_789019_part1_item2_para475 79.68346\n",
      "On April 11, 2021, we entered into a definitive agreement to acquire Nuance Communications, Inc. Nuance for 56.00 per share in an all-cash transaction valued at 19.7 billion, inclusive of Nuance s net debt. The acquisition has been approved by Nuance s shareholders, and we expect it to close in the third quarter of fiscal year 2022, subject to the satisfaction of certain regulatory approvals and other customary closing conditions.\n",
      "\n",
      "\n"
     ]
    }
   ],
   "source": [
    "sparse_retriever = SparseDocumentRetriever(sparse_searcher)\n",
    "dense_retriever = DenseDocumentRetriever(dense_searcher)\n",
    "\n",
    "sparse_hits = sparse_retriever.search_documents(target_paragraph)\n",
    "dense_hits = dense_retriever.search_documents(target_paragraph)\n",
    "\n",
    "# titles & texts format for DPR highlighter\n",
    "sparse_titles, sparse_texts = sparse_retriever.retrieve_and_process_documents(target_paragraph)\n",
    "dense_titles, dense_texts = dense_retriever.retrieve_and_process_documents(target_paragraph)\n",
    "\n",
    "print(f\"\\nTarget: {target_paragraph}\\n\")\n",
    "print(\"Retrieval results from sparse retriever:\")\n",
    "print_hits(sparse_hits)\n",
    "print()\n",
    "\n",
    "print(\"Retrieval results from dense retriever:\")\n",
    "print_hits(dense_hits)\n",
    "print()"
   ]
  },
  {
   "cell_type": "markdown",
   "metadata": {},
   "source": [
    "## Dpr Highlighter"
   ]
  },
  {
   "cell_type": "markdown",
   "metadata": {},
   "source": [
    "The current behavior of the DPR highlighter, where it conducts span prediction on the reference, is not desired."
   ]
  },
  {
   "cell_type": "code",
   "execution_count": 5,
   "metadata": {},
   "outputs": [
    {
     "name": "stderr",
     "output_type": "stream",
     "text": [
      "Some weights of the model checkpoint at facebook/dpr-reader-multiset-base were not used when initializing DPRReader: ['span_predictor.encoder.bert_model.pooler.dense.weight', 'span_predictor.encoder.bert_model.pooler.dense.bias']\n",
      "- This IS expected if you are initializing DPRReader from the checkpoint of a model trained on another task or with another architecture (e.g. initializing a BertForSequenceClassification model from a BertForPreTraining model).\n",
      "- This IS NOT expected if you are initializing DPRReader from the checkpoint of a model that you expect to be exactly identical (initializing a BertForSequenceClassification model from a BertForSequenceClassification model).\n",
      "The tokenizer class you load from this checkpoint is not the same type as the class this function is called from. It may result in unexpected tokenization. \n",
      "The tokenizer class you load from this checkpoint is 'DPRQuestionEncoderTokenizer'. \n",
      "The class this function is called from is 'DPRReaderTokenizer'.\n"
     ]
    },
    {
     "name": "stdout",
     "output_type": "stream",
     "text": [
      "\n",
      "Target: On January 18, 2022, we entered into a definitive agreement to acquire Activision Blizzard, Inc. Activision Blizzard for 95.00 per share in an all-cash transaction valued at 68.7 billion, inclusive of Activision Blizzard s net cash. The acquisition has been approved by Activision Blizzard s shareholders, and we expect it to close in fiscal year 2023, subject to the satisfaction of certain regulatory approvals and other customary closing conditions.\n",
      "\n",
      "Highlighting results from sparse retriever: (desc)\n",
      "0.2967 reference 20210427_10-Q_789019_part1_item2_para481:\n",
      "start_idx: 115, end_idx: 115, span: blizzard\n",
      "0.2721 reference 20220125_10-Q_789019_part1_item1_para153:\n",
      "start_idx: 141, end_idx: 141, span: blizzard\n",
      "0.1928 reference 20211026_10-Q_789019_part1_item2_para340:\n",
      "start_idx: 129, end_idx: 129, span: blizzard\n",
      "0.1320 reference 20220125_10-Q_789019_part1_item2_para475:\n",
      "start_idx: 120, end_idx: 120, span: blizzard\n",
      "0.0348 reference 20220426_10-Q_789019_part1_item1_para169:\n",
      "start_idx: 135, end_idx: 139, span: january 18, 2022\n",
      "0.0330 reference 20221025_10-Q_789019_part1_item1_para158:\n",
      "start_idx: 138, end_idx: 142, span: january 18, 2022\n",
      "0.0156 reference 20220125_10-Q_789019_part1_item2_para474:\n",
      "start_idx: 101, end_idx: 120, span: january 18, 2022, we entered into a definitive agreement to acquire activision blizzard, inc.\n",
      "0.0156 reference 20220426_10-Q_789019_part1_item2_para492:\n",
      "start_idx: 101, end_idx: 120, span: january 18, 2022, we entered into a definitive agreement to acquire activision blizzard, inc.\n",
      "0.0071 reference 20221025_10-Q_789019_part1_item2_para334:\n",
      "start_idx: 104, end_idx: 126, span: january 18, 2022, we entered into a definitive agreement to acquire activision blizzard, inc. activision blizzard\n",
      "0.0004 reference 20220125_10-Q_789019_part1_item1_para289:\n",
      "start_idx: 234, end_idx: 235, span: 7 billion\n",
      "\n"
     ]
    }
   ],
   "source": [
    "# highlighter\n",
    "dpr_highlighter = DprHighlighter(model_name=\"facebook/dpr-reader-multiset-base\", tokenizer_name=\"facebook/dpr-reader-multiset-base\")\n",
    "\n",
    "sparse_encoded_inputs, sparse_outputs = dpr_highlighter.highlighting_outputs(target_paragraph, target_title, sparse_texts)\n",
    "\n",
    "start_logits = sparse_outputs.start_logits\n",
    "end_logits = sparse_outputs.end_logits\n",
    "relevance_logits = sparse_outputs.relevance_logits\n",
    "\n",
    "# masked the logits prior to the start of target paragraph\n",
    "target_para_start_idxs = dpr_highlighter.find_target_start_position(sparse_encoded_inputs['input_ids'])\n",
    "masked_start_logits = dpr_highlighter.mask_prior_logits(start_logits, target_para_start_idxs)\n",
    "masked_end_logits = dpr_highlighter.mask_prior_logits(end_logits, target_para_start_idxs)\n",
    "\n",
    "print(f\"\\nTarget: {target_paragraph}\\n\")\n",
    "print(\"Highlighting results from sparse retriever: (desc)\")\n",
    "dpr_highlighter.visualize_highlight_span(sparse_encoded_inputs, sparse_titles, relevance_logits, masked_start_logits, masked_end_logits)\n",
    "print()\n"
   ]
  },
  {
   "cell_type": "code",
   "execution_count": 6,
   "metadata": {},
   "outputs": [
    {
     "name": "stderr",
     "output_type": "stream",
     "text": [
      "Some weights of the model checkpoint at facebook/dpr-reader-multiset-base were not used when initializing DPRReader: ['span_predictor.encoder.bert_model.pooler.dense.weight', 'span_predictor.encoder.bert_model.pooler.dense.bias']\n",
      "- This IS expected if you are initializing DPRReader from the checkpoint of a model trained on another task or with another architecture (e.g. initializing a BertForSequenceClassification model from a BertForPreTraining model).\n",
      "- This IS NOT expected if you are initializing DPRReader from the checkpoint of a model that you expect to be exactly identical (initializing a BertForSequenceClassification model from a BertForSequenceClassification model).\n",
      "The tokenizer class you load from this checkpoint is not the same type as the class this function is called from. It may result in unexpected tokenization. \n",
      "The tokenizer class you load from this checkpoint is 'DPRQuestionEncoderTokenizer'. \n",
      "The class this function is called from is 'DPRReaderTokenizer'.\n"
     ]
    },
    {
     "name": "stdout",
     "output_type": "stream",
     "text": [
      "\n",
      "Target: On January 18, 2022, we entered into a definitive agreement to acquire Activision Blizzard, Inc. Activision Blizzard for 95.00 per share in an all-cash transaction valued at 68.7 billion, inclusive of Activision Blizzard s net cash. The acquisition has been approved by Activision Blizzard s shareholders, and we expect it to close in fiscal year 2023, subject to the satisfaction of certain regulatory approvals and other customary closing conditions.\n",
      "\n",
      "Highlighting results from dense retriever: (desc)\n",
      "0.2967 reference 20220125_10-Q_789019_part1_item2_para475:\n",
      "start_idx: 115, end_idx: 115, span: agreement\n",
      "0.2721 reference 20220426_10-Q_789019_part2_item1a_para28:\n",
      "start_idx: 141, end_idx: 141, span: significant\n",
      "0.1928 reference 20221025_10-Q_789019_part2_item1a_para29:\n",
      "start_idx: 129, end_idx: 129, span: our\n",
      "0.1320 reference 20220125_10-Q_789019_part2_item1a_para28:\n",
      "start_idx: 120, end_idx: 120, span: to\n",
      "0.0348 reference 20220426_10-Q_789019_part1_item1_para169:\n",
      "start_idx: 135, end_idx: 139, span: january 18, 2022\n",
      "0.0330 reference 20220125_10-Q_789019_part1_item1_para289:\n",
      "start_idx: 138, end_idx: 142, span: will provide building blocks for\n",
      "0.0156 reference 20220426_10-Q_789019_part1_item2_para492:\n",
      "start_idx: 101, end_idx: 120, span: january 18, 2022, we entered into a definitive agreement to acquire activision blizzard, inc.\n",
      "0.0156 reference 20220125_10-Q_789019_part1_item2_para474:\n",
      "start_idx: 101, end_idx: 120, span: january 18, 2022, we entered into a definitive agreement to acquire activision blizzard, inc.\n",
      "0.0071 reference 20221025_10-Q_789019_part1_item2_para334:\n",
      "start_idx: 104, end_idx: 126, span: january 18, 2022, we entered into a definitive agreement to acquire activision blizzard, inc. activision blizzard\n",
      "0.0004 reference 20221025_10-Q_789019_part1_item1_para158:\n",
      "start_idx: 234, end_idx: 235, span: \n",
      "\n"
     ]
    }
   ],
   "source": [
    "# highlighter\n",
    "dpr_highlighter = DprHighlighter(model_name=\"facebook/dpr-reader-multiset-base\", tokenizer_name=\"facebook/dpr-reader-multiset-base\")\n",
    "\n",
    "dense_encoded_inputs, dense_outputs = dpr_highlighter.highlighting_outputs(target_paragraph, target_title, dense_texts)\n",
    "\n",
    "start_logits = sparse_outputs.start_logits\n",
    "end_logits = sparse_outputs.end_logits\n",
    "relevance_logits = sparse_outputs.relevance_logits\n",
    "\n",
    "# masked the logits prior to the start of target paragraph\n",
    "target_para_start_idxs = dpr_highlighter.find_target_start_position(sparse_encoded_inputs['input_ids'])\n",
    "masked_start_logits = dpr_highlighter.mask_prior_logits(start_logits, target_para_start_idxs)\n",
    "masked_end_logits = dpr_highlighter.mask_prior_logits(end_logits, target_para_start_idxs)\n",
    "\n",
    "print(f\"\\nTarget: {target_paragraph}\\n\")\n",
    "print(\"Highlighting results from dense retriever: (desc)\")\n",
    "dpr_highlighter.visualize_highlight_span(dense_encoded_inputs, dense_titles, relevance_logits, masked_start_logits, masked_end_logits)\n",
    "print()\n"
   ]
  },
  {
   "cell_type": "markdown",
   "metadata": {},
   "source": [
    "## CncBertHighlighter"
   ]
  },
  {
   "cell_type": "code",
   "execution_count": 6,
   "metadata": {},
   "outputs": [
    {
     "name": "stdout",
     "output_type": "stream",
     "text": [
      "\n",
      "Target: On January 18, 2022, we entered into a definitive agreement to acquire Activision Blizzard, Inc. Activision Blizzard for 95.00 per share in an all-cash transaction valued at 68.7 billion, inclusive of Activision Blizzard s net cash. The acquisition has been approved by Activision Blizzard s shareholders, and we expect it to close in fiscal year 2023, subject to the satisfaction of certain regulatory approvals and other customary closing conditions.\n",
      "\n",
      "Highlighting results from sparse retriever:\n",
      "reference 1: ['acquire', 'acquisition', 'close', 'Blizzard,', 'Activision']\n",
      "reference 2: ['approved', 'acquire', 'acquisition', 'Blizzard,', 'close']\n",
      "reference 3: ['approved', 'acquire', 'acquisition', 'Blizzard,', 'close']\n",
      "reference 4: ['95.00', '68.7', '18,', 'January', '2022,']\n",
      "reference 5: ['95.00', '68.7', '18,', 'January', '2022,']\n",
      "reference 6: ['95.00', '68.7', 'January', '18,', 'approved']\n",
      "reference 7: ['January', '18,', '95.00', '68.7', 'Blizzard']\n",
      "reference 8: ['January', '18,', '95.00', '68.7', 'Blizzard,']\n",
      "reference 9: ['Blizzard,', 'Activision', '95.00', '68.7', '18,']\n",
      "reference 10: ['January', '18,', '95.00', '68.7', 'Blizzard']\n",
      "\n",
      "Highlighting results from dense retriever:\n",
      "reference 1: ['acquire', 'acquisition', 'close', 'Blizzard,', 'Activision']\n",
      "reference 2: ['approved', 'acquire', 'acquisition', 'Blizzard,', 'close']\n",
      "reference 3: ['approved', 'acquire', 'acquisition', 'Blizzard,', 'close']\n",
      "reference 4: ['95.00', '68.7', 'January', '18,', 'approved']\n",
      "reference 5: ['95.00', '68.7', '18,', 'January', '2022,']\n",
      "reference 6: ['95.00', '68.7', '18,', 'January', '2022,']\n",
      "reference 7: ['all-cash', '95.00', 'close', 'cash.', 'net']\n",
      "reference 8: ['all-cash', 'close', 'approved', 'cash.', '95.00']\n",
      "reference 9: ['all-cash', '95.00', 'close', 'approved', 'cash.']\n",
      "reference 10: ['January', '18,', '95.00', '68.7', 'Blizzard']\n",
      "\n"
     ]
    }
   ],
   "source": [
    "cnc_highlighter = CncBertHighlighter(model_name=\"DylanJHJ/bert-base-final-v0-ep2\")\n",
    "\n",
    "sparse_highlight_results = cnc_highlighter.highlighting_outputs(target_paragraph, sparse_texts)\n",
    "dense_highlight_results = cnc_highlighter.highlighting_outputs(target_paragraph, dense_texts)\n",
    "\n",
    "print(f\"\\nTarget: {target_paragraph}\\n\")\n",
    "print(\"Highlighting results from sparse retriever:\")\n",
    "cnc_highlighter.visualize_top_k_highlight(sparse_highlight_results)\n",
    "print()\n",
    "\n",
    "print(\"Highlighting results from dense retriever:\")\n",
    "cnc_highlighter.visualize_top_k_highlight(dense_highlight_results)\n",
    "print()"
   ]
  },
  {
   "cell_type": "markdown",
   "metadata": {},
   "source": [
    "# Question Answering"
   ]
  },
  {
   "cell_type": "code",
   "execution_count": 7,
   "metadata": {},
   "outputs": [],
   "source": [
    "query = \"What company does microsoft acquire in 2022?\""
   ]
  },
  {
   "cell_type": "markdown",
   "metadata": {},
   "source": [
    "## Retriever"
   ]
  },
  {
   "cell_type": "code",
   "execution_count": 8,
   "metadata": {},
   "outputs": [
    {
     "name": "stdout",
     "output_type": "stream",
     "text": [
      "\\Query: What company does microsoft acquire in 2022?\n",
      "\n",
      "Retrieval results from sparse retriever:\n",
      " 1 20220429_10-Q_320193_part1_item2_para40 3.27060\n",
      "In addition to its contractual cash requirements, the Company has a share repurchase program authorized by the Board of Directors (the Program ). As of March 26, 2022, the remaining availability under the Program was 17.6 billion. On April 28, 2022, the Company announced the Board of Directors increased the Program authorization by 90 billion. The Program does not obligate the Company to acquire a minimum amount of shares.\n",
      " 2 20220729_10-Q_320193_part1_item2_para38 2.99690\n",
      "In addition to its contractual cash requirements, the Company has a share repurchase program authorized by the Board of Directors (the Program ). The Program does not obligate the Company to acquire a minimum amount of shares. As of June 25, 2022, the Company s quarterly cash dividend was 0.23 per share. The Company intends to increase its dividend on an annual basis, subject to declaration by the Board of Directors.\n",
      " 3 20220729_10-Q_320193_part2_item2_para1 2.45790\n",
      "Purchases of equity securities by the issuer and affiliated purchasers Share repurchase activity during the three months ended june 25, 2022 was as follows (in millions, except number of shares, which are reflected in thousands, and per share amounts): Periods total number of shares purchased average price paid per share total number of shares purchased as part of publicly announced plans or programs approximate dollar value of Shares that may yet be purchased Under the plans or programs (1) March 27, 2022 to april 30, 2022: open market and privately negotiated purchases 50,578 168.06 50,578 may 1, 2022 to may 28, 2022: open market and privately negotiated purchases 42,069 148.45 42,069 may 29, 2022 to june 25, 2022: open market and privately negotiated purchases 50,027 139.06 50,027 total 142,674 85,877 -1) On April 28, 2022, the Board of Directors authorized the purchase of an additional 90 billion of the Company s common stock under the Program. As of June 25, 2022, total utilization under the April 2022 authorization was 4.1 billion. During the third quarter of 2022, the Company also utilized the final 17.6 billion under the 90 billion Program authorization approved in April 2021. The Program does not obligate the Company to acquire a minimum amount of shares. Under the Program, shares may be repurchased in privately negotiated and/or open market transactions, including under plans complying with Rule 10b5-1 under the Exchange Act.\n",
      " 4 20220429_10-Q_320193_part2_item2_para1 2.34910\n",
      "Purchases of equity securities by the issuer and affiliated purchasers Share repurchase activity during the three months ended march 26, 2022 was as follows (in millions, except number of shares, which are reflected in thousands, and per share amounts): Periods total number of shares purchased average price paid per share total number of shares purchased as part of publicly announced plans or programs approximate dollar value of Shares that may yet be purchased Under the plans or programs (1) December 26, 2021 to january 29, 2022: november 2021 asrs 4,887 (2) 4,887 open market and privately negotiated purchases 43,330 170.99 43,330 january 30, 2022 to february 26, 2022: open market and privately negotiated purchases 42,895 169.71 42,895 february 27, 2022 to march 26, 2022: open market and privately negotiated purchases 50,822 161.75 50,822 total 141,934 17,579 -1) On April 28, 2021, the Board of Directors authorized the purchase of an additional 90 billion of the Company s common stock under the Program. As of March 26, 2022, total utilization under the April 2021 authorization was 72.4 billion. On April 28, 2022, the Company announced the Board of Directors increased the Program authorization by 90 billion. The Program does not obligate the Company to acquire a minimum amount of shares. Under the Program, shares may be repurchased in privately negotiated and/or open market transactions, including under plans complying with Rule 10b5-1 under the Exchange Act.\n",
      " 5 20220128_10-Q_320193_part1_item2_para37 2.26810\n",
      "In addition to its cash requirements, the Company has a capital return program authorized by the Board of Directors. The share repurchase program (the Program does not obligate the Company to acquire any specific number of shares. As of December 25, 2021, the Company s quarterly cash dividend was 0.22 per share. The Company intends to increase its dividend on an annual basis, subject to declaration by the Board of Directors.\n",
      " 6 20180202_10-Q_320193_part1_item2_para53 2.02280\n",
      "As of December 30, 2017 , 176 billion of the share repurchase program had been utilized. The Company s share repurchase program does not obligate it to acquire any specific number of shares. Under the program, shares may be repurchased in privately negotiated or open market transactions, including under plans complying with Rule 10b5-1 under the Exchange Act.\n",
      " 7 20180202_10-Q_320193_part1_item1_para42 1.92170\n",
      "Share repurchase program In May 2017 , the Company s Board of Directors increased the share repurchase authorization from 175 billion to 210 billion of the Company s common stock, of which 176 billion had been utilized as of December 30, 2017 . The Company s share repurchase program does not obligate it to acquire any specific number of shares. Under the program, shares may be repurchased in privately negotiated and/or open market transactions, including under plans complying with Rule 10b5-1 under the Securities Exchange Act of 1934, as amended (the Exchange Act ).\n",
      " 8 20210128_10-Q_320193_part1_item1_para44 1.92170\n",
      "Note 7 billion of the Company s common stock under a share repurchase program, of which billion had been utilized. During the three months ended December 26, 2020, the Company repurchased million shares of its common stock for billion. The Company s share repurchase program does not obligate it to acquire any specific number of shares. Under this program, shares may be repurchased in privately negotiated and/or open market transactions, including under plans complying with Rule 10b5-1 under the Securities Exchange Act of 1934, as amended (the Exchange Act ).\n",
      " 9 20220429_10-Q_320193_part1_item2_para39 1.89900\n",
      "Manufacturing purchase obligations The Company utilizes several outsourcing partners to manufacture subassemblies for the Company s products and to perform final assembly and testing of finished products. The Company also obtains individual components for its products from a wide variety of individual suppliers. Outsourcing partners acquire components and build product based on demand information supplied by the Company, which typically covers periods up to 150 days. As of March 26, 2022, the Company had manufacturing purchase obligations of 40.6 billion, with 40.5 billion payable within 12 months. The Company s manufacturing purchase obligations are primarily noncancelable.\n",
      "10 20220729_10-Q_320193_part1_item2_para37 1.89900\n",
      "Manufacturing purchase obligations The Company utilizes several outsourcing partners to manufacture subassemblies for the Company s products and to perform final assembly and testing of finished products. The Company also obtains individual components for its products from a wide variety of individual suppliers. Outsourcing partners acquire components and build product based on demand information supplied by the Company, which typically covers periods up to 150 days. As of June 25, 2022, the Company had manufacturing purchase obligations of 43.1 billion, with 43.0 billion payable within 12 months. The Company s manufacturing purchase obligations are primarily noncancelable.\n",
      "\n",
      "\n",
      "Retrieval results from dense retriever:\n",
      " 1 20190130_10-Q_789019_part2_item2_para2 83.05006\n",
      "In connection with our acquisition of GitHub, Inc. on October 25, 2018, we issued 52,695,909 shares of Microsoft common stock to certain holders of capital stock of GitHub. The offer and sale of the shares were not registered under the Securities Act and were made in reliance upon the exemption from registration under Section 4(a)(2) of the Securities Act for an issuance not involving a public offering.\n",
      " 2 20180131_10-Q_789019_part2_item6_para4 82.40709\n",
      "Microsoft Corporation 2017 Stock Plan (incorporated by reference to Annex C to the Microsoft Corporation Proxy Statement filed on October 16, 2017)\n",
      " 3 20211026_10-Q_789019_part2_item6_para2 81.08902\n",
      "Offer Letter, dated October 25, 2020, between Microsoft Corporation and Christopher Young\n",
      " 4 20220426_10-Q_789019_part1_item1_para312 80.91376\n",
      "Our Microsoft Cloud (formerly commercial cloud) revenue, which includes Azure and other cloud services, Office 365 Commercial, the commercial portion of LinkedIn, Dynamics 365, and other commercial cloud properties, was billion and billion for the three and nine months ended March 31, 2022, respectively, and billion and billion for the three and nine months ended March 31, 2021, respectively. These amounts are primarily included in Server products and cloud services, Office products and cloud services, and LinkedIn in the table above.\n",
      " 5 20180131_10-Q_789019_part2_item6_para2 80.06053\n",
      "Microsoft Corporation Deferred Compensation Plan for Non-Employee Directors (Amended and Restated Effective as of December 1, 2017)\n",
      " 6 20221025_10-Q_789019_part1_item1_para288 79.59982\n",
      "Our Microsoft Cloud revenue, which includes Azure and other cloud services, Office 365 Commercial, the commercial portion of LinkedIn, Dynamics 365, and other commercial cloud properties, was billion and billion for the three months ended September 30, 2022 and 2021, respectively. These amounts are primarily included in Server products and cloud services, Office products and cloud services, and LinkedIn in the table above.\n",
      " 7 20180426_10-Q_789019_part1_item2_para5 79.37356\n",
      "Microsoft is a technology company whose mission is to empower every person and every organization on the planet to achieve more. We strive to create local opportunity, growth, and impact in every country around the world. Our strategy is to build best-in-class platforms and productivity services for an intelligent cloud and an intelligent edge infused with artificial intelligence AI ). We develop, license, and support a wide range of software products, services, and devices that deliver new opportunities, greater convenience, and enhanced value to people s lives. Our platforms and tools help drive small business productivity, large business competitiveness, and public-sector efficiency. They also support new startups, improve educational and health outcomes, and empower human ingenuity.\n",
      " 8 20180131_10-Q_789019_part1_item2_para5 79.00588\n",
      "Microsoft is a technology company whose mission is to empower every person and every organization on the planet to achieve more. We strive to create local opportunity, growth, and impact in every country around the world. Our strategy is to build best-in-class platforms and productivity services for an intelligent cloud and an intelligent edge infused with artificial intelligence. We develop, license, and support a wide range of software products, services, and devices that deliver new opportunities, greater convenience, and enhanced value to people s lives. Our platforms and tools help drive small business productivity, large business competitiveness, and public-sector efficiency. They also support new startups, improve educational and health outcomes, and empower human ingenuity.\n",
      " 9 20221025_10-Q_789019_part1_item2_para3 78.85606\n",
      "The following Management s Discussion and Analysis of Financial Condition and Results of Operations MD&A is intended to help the reader understand the results of operations and financial condition of Microsoft Corporation. MD&A is provided as a supplement to, and should be read in conjunction with, our Annual Report on Form 10-K for the year ended June 30, 2022, and our financial statements and the accompanying Notes to Financial Statements (Part I, Item 1 of this Form 10-Q).\n",
      "10 20190130_10-Q_789019_part1_item1_para677 78.80448\n",
      "On October 25, 2018, we acquired GitHub, Inc. in a 7.5 billion stock transaction (inclusive of total cash payments of 1.3 billion in respect of vested GitHub equity awards and an indemnity escrow). The acquisition is expected to empower developers to achieve more at every stage of the development lifecycle, accelerate enterprise use of GitHub, and bring Microsoft s developer tools and services to new audiences. The financial results of GitHub have been included in our consolidated financial statements since the date of the acquisition. GitHub is reported as part of our Intelligent Cloud segment.\n",
      "\n",
      "\n"
     ]
    }
   ],
   "source": [
    "sparse_retriever = SparseDocumentRetriever(sparse_searcher)\n",
    "dense_retriever = DenseDocumentRetriever(dense_searcher)\n",
    "\n",
    "sparse_hits = sparse_retriever.search_documents(query)\n",
    "dense_hits = dense_retriever.search_documents(query)\n",
    "\n",
    "# titles & texts format for DPR reader\n",
    "sparse_titles, sparse_texts = sparse_retriever.retrieve_and_process_documents(query)\n",
    "dense_titles, dense_texts = dense_retriever.retrieve_and_process_documents(query)\n",
    "\n",
    "print(f\"\\Query: {query}\\n\")\n",
    "print(\"Retrieval results from sparse retriever:\")\n",
    "print_hits(sparse_hits)\n",
    "print()\n",
    "\n",
    "print(\"Retrieval results from dense retriever:\")\n",
    "print_hits(dense_hits)\n",
    "print()"
   ]
  },
  {
   "cell_type": "markdown",
   "metadata": {},
   "source": [
    "## Reader"
   ]
  },
  {
   "cell_type": "code",
   "execution_count": 10,
   "metadata": {},
   "outputs": [
    {
     "name": "stderr",
     "output_type": "stream",
     "text": [
      "Some weights of the model checkpoint at facebook/dpr-reader-multiset-base were not used when initializing DPRReader: ['span_predictor.encoder.bert_model.pooler.dense.weight', 'span_predictor.encoder.bert_model.pooler.dense.bias']\n",
      "- This IS expected if you are initializing DPRReader from the checkpoint of a model trained on another task or with another architecture (e.g. initializing a BertForSequenceClassification model from a BertForPreTraining model).\n",
      "- This IS NOT expected if you are initializing DPRReader from the checkpoint of a model that you expect to be exactly identical (initializing a BertForSequenceClassification model from a BertForSequenceClassification model).\n",
      "The tokenizer class you load from this checkpoint is not the same type as the class this function is called from. It may result in unexpected tokenization. \n",
      "The tokenizer class you load from this checkpoint is 'DPRQuestionEncoderTokenizer'. \n",
      "The class this function is called from is 'DPRReaderTokenizer'.\n"
     ]
    },
    {
     "name": "stdout",
     "output_type": "stream",
     "text": [
      "\n",
      "Query: What company does microsoft acquire in 2022?\n",
      "\n",
      "Reader results from sparse retriever: (desc)\n",
      "0.1966 reference 20220429_10-Q_320193_part1_item2_para40:\n",
      "start_idx: 57, end_idx: 42, span: \n",
      "0.1400 reference 20220729_10-Q_320193_part1_item2_para37:\n",
      "start_idx: 36, end_idx: 37, span: the company\n",
      "0.1321 reference 20220429_10-Q_320193_part1_item2_para39:\n",
      "start_idx: 36, end_idx: 37, span: the company\n",
      "0.1240 reference 20180202_10-Q_320193_part1_item2_para53:\n",
      "start_idx: 38, end_idx: 38, span: 2017\n",
      "0.1147 reference 20220729_10-Q_320193_part1_item2_para38:\n",
      "start_idx: 57, end_idx: 42, span: \n",
      "0.0757 reference 20220128_10-Q_320193_part1_item2_para37:\n",
      "start_idx: 117, end_idx: 41, span: \n",
      "0.0579 reference 20180202_10-Q_320193_part1_item1_para42:\n",
      "start_idx: 47, end_idx: 47, span: directors\n",
      "0.0578 reference 20220429_10-Q_320193_part2_item2_para1:\n",
      "start_idx: 139, end_idx: 139, span: as\n",
      "0.0509 reference 20220729_10-Q_320193_part2_item2_para1:\n",
      "start_idx: 233, end_idx: 247, span: board of directors authorized the purchase of an additional 90 billion of the company s\n",
      "0.0503 reference 20210128_10-Q_320193_part1_item1_para44:\n",
      "start_idx: 139, end_idx: 139, span: exchange\n",
      "\n",
      "Reader results from dense retriever: (desc)\n",
      "0.3259 reference 20221025_10-Q_789019_part1_item1_para288:\n",
      "start_idx: 41, end_idx: 41, span: azure\n",
      "0.1946 reference 20220426_10-Q_789019_part1_item1_para312:\n",
      "start_idx: 46, end_idx: 46, span: azure\n",
      "0.1625 reference 20211026_10-Q_789019_part2_item6_para2:\n",
      "start_idx: 42, end_idx: 43, span: microsoft corporation\n",
      "0.0736 reference 20221025_10-Q_789019_part1_item2_para3:\n",
      "start_idx: 65, end_idx: 66, span: microsoft corporation\n",
      "0.0683 reference 20190130_10-Q_789019_part2_item2_para2:\n",
      "start_idx: 38, end_idx: 40, span: github\n",
      "0.0666 reference 20180131_10-Q_789019_part2_item6_para4:\n",
      "start_idx: 46, end_idx: 33, span: \n",
      "0.0563 reference 20190130_10-Q_789019_part1_item1_para677:\n",
      "start_idx: 42, end_idx: 44, span: github\n",
      "0.0277 reference 20180131_10-Q_789019_part2_item6_para2:\n",
      "start_idx: 32, end_idx: 33, span: microsoft corporation\n",
      "0.0127 reference 20180131_10-Q_789019_part1_item2_para5:\n",
      "start_idx: 32, end_idx: 32, span: microsoft\n",
      "0.0118 reference 20180426_10-Q_789019_part1_item2_para5:\n",
      "start_idx: 33, end_idx: 33, span: microsoft\n"
     ]
    }
   ],
   "source": [
    "# reader\n",
    "dpr_reader = DprReader(model_name=\"facebook/dpr-reader-multiset-base\", tokenizer_name=\"facebook/dpr-reader-multiset-base\")\n",
    "\n",
    "sparse_encoded_inputs, sparse_outputs = dpr_reader.generate_model_outputs(query, sparse_titles, sparse_texts)\n",
    "dense_encoded_inputs, dense_outputs = dpr_reader.generate_model_outputs(query, dense_titles, dense_texts)\n",
    "\n",
    "print(f\"\\nQuery: {query}\\n\")\n",
    "print(\"Reader results from sparse retriever: (desc)\")\n",
    "dpr_reader.visualize_answer_span(sparse_encoded_inputs, sparse_titles, sparse_outputs.relevance_logits, sparse_outputs.start_logits, sparse_outputs.end_logits)\n",
    "print()\n",
    "\n",
    "print(\"Reader results from dense retriever: (desc)\")\n",
    "dpr_reader.visualize_answer_span(dense_encoded_inputs, dense_titles, dense_outputs.relevance_logits, dense_outputs.start_logits, dense_outputs.end_logits)"
   ]
  }
 ],
 "metadata": {
  "kernelspec": {
   "display_name": "pyserini",
   "language": "python",
   "name": "python3"
  },
  "language_info": {
   "codemirror_mode": {
    "name": "ipython",
    "version": 3
   },
   "file_extension": ".py",
   "mimetype": "text/x-python",
   "name": "python",
   "nbconvert_exporter": "python",
   "pygments_lexer": "ipython3",
   "version": "3.10.13"
  }
 },
 "nbformat": 4,
 "nbformat_minor": 2
}
