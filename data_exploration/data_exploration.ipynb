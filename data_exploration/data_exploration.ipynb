{
 "cells": [
  {
   "cell_type": "code",
   "execution_count": 2,
   "metadata": {},
   "outputs": [
    {
     "name": "stderr",
     "output_type": "stream",
     "text": [
      "/home/ybtu/miniconda3/envs/pyserini/lib/python3.10/site-packages/tqdm/auto.py:21: TqdmWarning: IProgress not found. Please update jupyter and ipywidgets. See https://ipywidgets.readthedocs.io/en/stable/user_install.html\n",
      "  from .autonotebook import tqdm as notebook_tqdm\n"
     ]
    }
   ],
   "source": [
    "import sys\n",
    "sys.path.append('/home/ybtu/FinNLP')\n",
    "import json\n",
    "import os\n",
    "import matplotlib.pyplot as plt\n",
    "from config import ROOT, RAW_DIR, FORMMATED_DIR, INDEX_DIR\n",
    "import utils # utils.py\n",
    "from transformers import BertTokenizer\n",
    "import matplotlib.pyplot as plt"
   ]
  },
  {
   "cell_type": "markdown",
   "metadata": {},
   "source": [
    "# 10Q"
   ]
  },
  {
   "cell_type": "code",
   "execution_count": 37,
   "metadata": {},
   "outputs": [
    {
     "name": "stdout",
     "output_type": "stream",
     "text": [
      "Total number of documents: 30\n",
      "Total number of paragraphs: 22129\n",
      "Average number of tokens per paragraph: 31.780197930317684\n",
      "para_id:20180502_10-Q_320193_part1_item1_para35, Max number of tokens: 1042\n",
      "para_id:20200501_10-Q_320193_part1_item1_para12, Min number of tokens: 1\n"
     ]
    }
   ],
   "source": [
    "directory = FORMMATED_DIR\n",
    "\n",
    "doc_count = 0\n",
    "para_count = 0\n",
    "total_tokens = 0\n",
    "max_para_id, max_tokens = None, 0\n",
    "min_para_id, min_tokens = None, float('inf')\n",
    "\n",
    "tokenizer = BertTokenizer.from_pretrained('bert-base-uncased')\n",
    "\n",
    "for filename in os.listdir(directory):\n",
    "    if filename.endswith(\".jsonl\"):\n",
    "        file_path = os.path.join(directory, filename)\n",
    "        doc_count += 1\n",
    "        with open(file_path, 'r') as file:\n",
    "            for line in file:\n",
    "                data = json.loads(line)\n",
    "                content = data['contents']\n",
    "                tokens = tokenizer.tokenize(content)\n",
    "                num_tokens = len(tokens)\n",
    "\n",
    "                # Update\n",
    "                total_tokens += num_tokens\n",
    "                if num_tokens > max_tokens:\n",
    "                    max_tokens = num_tokens\n",
    "                    max_para_id = data['id']\n",
    "                if num_tokens < min_tokens:\n",
    "                    min_tokens = num_tokens\n",
    "                    min_para_id = data['id']\n",
    "                \n",
    "                para_count += 1\n",
    "\n",
    "print(f\"Total number of documents: {doc_count}\")\n",
    "print(f\"Total number of paragraphs: {para_count}\")\n",
    "print(f\"Average number of tokens per paragraph: {total_tokens/para_count}\")\n",
    "print(f\"para_id:{max_para_id}, Max number of tokens: {max_tokens}\")\n",
    "print(f\"para_id:{min_para_id}, Min number of tokens: {min_tokens}\")\n"
   ]
  },
  {
   "cell_type": "code",
   "execution_count": 55,
   "metadata": {},
   "outputs": [
    {
     "data": {
      "text/plain": [
       "{100: 19658,\n",
       " 200: 1795,\n",
       " 300: 526,\n",
       " 400: 104,\n",
       " 500: 27,\n",
       " 600: 11,\n",
       " 700: 4,\n",
       " 800: 2,\n",
       " 900: 0,\n",
       " 1000: 1,\n",
       " 1001: 1}"
      ]
     },
     "execution_count": 55,
     "metadata": {},
     "output_type": "execute_result"
    }
   ],
   "source": [
    "step = 100\n",
    "length_groups = {}\n",
    "for length in range(step, max_tokens + 1, step):\n",
    "    length_groups[length] = 0\n",
    "length_groups[length + 1] = 0\n",
    "\n",
    "for filename in os.listdir(directory):\n",
    "    if filename.endswith(\".jsonl\"):\n",
    "        file_path = os.path.join(directory, filename)\n",
    "        with open(file_path, 'r') as file:\n",
    "            for line in file:\n",
    "                data = json.loads(line)\n",
    "                content = data['contents']\n",
    "                tokens = tokenizer.tokenize(content)\n",
    "                num_tokens = len(tokens)\n",
    "\n",
    "                for length in length_groups:\n",
    "                    if num_tokens <= length:\n",
    "                        length_groups[length] += 1\n",
    "                        break\n",
    "                else:\n",
    "                    length_groups[length] += 1\n",
    "\n",
    "\n",
    "length_groups"
   ]
  },
  {
   "cell_type": "code",
   "execution_count": 56,
   "metadata": {},
   "outputs": [
    {
     "data": {
      "image/png": "[encoded data removed]",
      "text/plain": [
       "<Figure size 640x480 with 1 Axes>"
      ]
     },
     "metadata": {},
     "output_type": "display_data"
    }
   ],
   "source": [
    "labels = ['0-100', '101-200', '200+']\n",
    "lengths = [length_groups[100], length_groups[200], sum(length_groups.values()) - length_groups[100] - length_groups[200]]\n",
    "\n",
    "# Plot the pie chart\n",
    "plt.pie(lengths, labels=labels, autopct='%1.1f%%')\n",
    "\n",
    "# Add a title\n",
    "plt.title('Paragraph Tokens Distribution')\n",
    "\n",
    "# Display the plot\n",
    "plt.show()\n",
    "\n"
   ]
  },
  {
   "cell_type": "code",
   "execution_count": 49,
   "metadata": {},
   "outputs": [
    {
     "data": {
      "text/plain": [
       "{10: 14846,\n",
       " 20: 1246,\n",
       " 30: 655,\n",
       " 40: 493,\n",
       " 50: 429,\n",
       " 60: 435,\n",
       " 70: 434,\n",
       " 80: 383,\n",
       " 90: 410,\n",
       " 100: 327,\n",
       " 101: 2471}"
      ]
     },
     "execution_count": 49,
     "metadata": {},
     "output_type": "execute_result"
    }
   ],
   "source": [
    "step = 10\n",
    "length_groups = {}\n",
    "for length in range(step, 100 + 1, step):\n",
    "    length_groups[length] = 0\n",
    "length_groups[length + 1] = 0\n",
    "\n",
    "for filename in os.listdir(directory):\n",
    "    if filename.endswith(\".jsonl\"):\n",
    "        file_path = os.path.join(directory, filename)\n",
    "        with open(file_path, 'r') as file:\n",
    "            for line in file:\n",
    "                data = json.loads(line)\n",
    "                content = data['contents']\n",
    "                tokens = tokenizer.tokenize(content)\n",
    "                num_tokens = len(tokens)\n",
    "\n",
    "                for length in length_groups:\n",
    "                    if num_tokens <= length:\n",
    "                        length_groups[length] += 1\n",
    "                        break\n",
    "                else:\n",
    "                    length_groups[length] += 1\n",
    "length_groups"
   ]
  },
  {
   "cell_type": "code",
   "execution_count": 53,
   "metadata": {},
   "outputs": [
    {
     "data": {
      "image/png": "[encoded data removed]",
      "text/plain": [
       "<Figure size 640x480 with 1 Axes>"
      ]
     },
     "metadata": {},
     "output_type": "display_data"
    }
   ],
   "source": [
    "labels = ['0-10', '10+']\n",
    "lengths = [length_groups[10], sum(length_groups.values()) - length_groups[10]]\n",
    "\n",
    "# Plot the pie chart\n",
    "plt.pie(lengths, labels=labels, autopct='%1.1f%%')\n",
    "\n",
    "# Add a title\n",
    "plt.title('Paragraph Tokens Distribution under 100')\n",
    "\n",
    "# Display the plot\n",
    "plt.show()"
   ]
  },
  {
   "cell_type": "code",
   "execution_count": 21,
   "metadata": {},
   "outputs": [],
   "source": [
    "def get_paragraphs_with_less_tokens(directory, n):\n",
    "    tokenizer = BertTokenizer.from_pretrained('bert-base-uncased')\n",
    "    para_less_than_n = []\n",
    "\n",
    "    for filename in os.listdir(directory):\n",
    "        if filename.endswith(\".jsonl\"):\n",
    "            file_path = os.path.join(directory, filename)\n",
    "            with open(file_path, 'r') as file:\n",
    "                for line in file:\n",
    "                    data = json.loads(line)\n",
    "                    content = data['contents']\n",
    "                    tokens = tokenizer.tokenize(content)\n",
    "                    num_tokens = len(tokens)\n",
    "\n",
    "                    if num_tokens <= n:\n",
    "                        para_less_than_n.append(data['id'])\n",
    "\n",
    "    return para_less_than_n\n"
   ]
  },
  {
   "cell_type": "code",
   "execution_count": 28,
   "metadata": {},
   "outputs": [
    {
     "data": {
      "text/plain": [
       "{1: 3461,\n",
       " 2: 2741,\n",
       " 7: 495,\n",
       " 4: 2901,\n",
       " 5: 823,\n",
       " 10: 167,\n",
       " 8: 442,\n",
       " 3: 3154,\n",
       " 6: 440,\n",
       " 9: 222}"
      ]
     },
     "execution_count": 28,
     "metadata": {},
     "output_type": "execute_result"
    }
   ],
   "source": [
    "min_tokens = 10\n",
    "min_para_ids = get_paragraphs_with_less_tokens(FORMMATED_DIR, min_tokens)\n",
    "tokens_distribution = {}\n",
    "for para_id in min_para_ids:\n",
    "    para = utils.retrieve_paragraph(para_id)\n",
    "    tokens = tokenizer.tokenize(para)\n",
    "    num_tokens = len(tokens)\n",
    "    if num_tokens not in tokens_distribution:\n",
    "        tokens_distribution[num_tokens] = 0\n",
    "    tokens_distribution[num_tokens] += 1\n",
    "\n",
    "tokens_distribution\n"
   ]
  },
  {
   "cell_type": "code",
   "execution_count": 35,
   "metadata": {},
   "outputs": [
    {
     "name": "stdout",
     "output_type": "stream",
     "text": [
      "January 1, 2022 January 31, 2022\n",
      "10\n"
     ]
    }
   ],
   "source": [
    "sample_para = utils.retrieve_paragraph(\"20220426_10-Q_789019_part2_item2_para23\")\n",
    "tokens = tokenizer.tokenize(sample_para)\n",
    "print(sample_para)\n",
    "print(len(tokens))"
   ]
  },
  {
   "cell_type": "code",
   "execution_count": 36,
   "metadata": {},
   "outputs": [
    {
     "name": "stdout",
     "output_type": "stream",
     "text": [
      "LinkedIn contributed revenue of 1.3 billion.\n",
      "10\n"
     ]
    }
   ],
   "source": [
    "sample_para = utils.retrieve_paragraph(\"20180131_10-Q_789019_part1_item2_para12\")\n",
    "tokens = tokenizer.tokenize(sample_para)\n",
    "print(sample_para)\n",
    "print(len(tokens))"
   ]
  },
  {
   "cell_type": "markdown",
   "metadata": {},
   "source": [
    "# Data exploration on 10-K files"
   ]
  },
  {
   "cell_type": "markdown",
   "metadata": {},
   "source": [
    "## Process data"
   ]
  },
  {
   "cell_type": "code",
   "execution_count": 2,
   "metadata": {},
   "outputs": [
    {
     "name": "stdout",
     "output_type": "stream",
     "text": [
      "Total number of documents: 30\n",
      "Processed 3/30 files (10%)...\n",
      "Processed 6/30 files (20%)...\n",
      "Processed 9/30 files (30%)...\n",
      "Processed 12/30 files (40%)...\n",
      "Processed 15/30 files (50%)...\n",
      "Processed 18/30 files (60%)...\n",
      "Processed 21/30 files (70%)...\n",
      "Processed 24/30 files (80%)...\n",
      "Processed 27/30 files (90%)...\n",
      "Processed 30/30 files (100%)...\n",
      "Total number of documents: 30\n",
      "Total number of paragraphs: 22129\n",
      "Average number of tokens per paragraph: 31.780197930317684\n",
      "para_id:20180502_10-Q_320193_part1_item1_para35, Max number of tokens: 1042\n",
      "para_id:20200501_10-Q_320193_part1_item1_para12, Min number of tokens: 1\n",
      "Results saved to data_exploration_results.json\n"
     ]
    }
   ],
   "source": [
    "# directory = \"/tmp2/ybtu/FinNLP/collections/basic\"\n",
    "directory = FORMMATED_DIR\n",
    "\n",
    "# Count the total number of .jsonl files\n",
    "total_files = sum(1 for f in os.listdir(directory) if f.endswith(\".jsonl\"))\n",
    "print(f\"Total number of documents: {total_files}\")\n",
    "\n",
    "# Calculate the step for each 10% of the total files\n",
    "progress_step = total_files // 10\n",
    "\n",
    "doc_count = 0\n",
    "para_count = 0\n",
    "total_tokens = 0\n",
    "max_para_id, max_tokens = None, 0\n",
    "min_para_id, min_tokens = None, float('inf')\n",
    "\n",
    "tokenizer = BertTokenizer.from_pretrained('bert-base-uncased')\n",
    "\n",
    "for filename in os.listdir(directory):\n",
    "    if filename.endswith(\".jsonl\"):\n",
    "        file_path = os.path.join(directory, filename)\n",
    "        doc_count += 1\n",
    "        with open(file_path, 'r') as file:\n",
    "            for line in file:\n",
    "                data = json.loads(line)\n",
    "                content = data['contents']\n",
    "                tokens = tokenizer.tokenize(content)\n",
    "                num_tokens = len(tokens)\n",
    "\n",
    "                # Update\n",
    "                total_tokens += num_tokens\n",
    "                if num_tokens > max_tokens:\n",
    "                    max_tokens = num_tokens\n",
    "                    max_para_id = data['id']\n",
    "                if num_tokens < min_tokens:\n",
    "                    min_tokens = num_tokens\n",
    "                    min_para_id = data['id']\n",
    "                \n",
    "                para_count += 1\n",
    "\n",
    "        # Progress reporting every 10%\n",
    "        if doc_count % progress_step == 0 or doc_count == total_files:\n",
    "            percent_complete = (doc_count / total_files) * 100\n",
    "            print(f\"Processed {doc_count}/{total_files} files ({percent_complete:.0f}%)...\")\n",
    "\n",
    "print(f\"Total number of documents: {doc_count}\")\n",
    "print(f\"Total number of paragraphs: {para_count}\")\n",
    "print(f\"Average number of tokens per paragraph: {total_tokens/para_count}\")\n",
    "print(f\"para_id:{max_para_id}, Max number of tokens: {max_tokens}\")\n",
    "print(f\"para_id:{min_para_id}, Min number of tokens: {min_tokens}\")\n",
    "\n",
    "# generate length groups\n",
    "step = 100\n",
    "length_groups = {}\n",
    "for length in range(step, max_tokens + 1, step):\n",
    "    length_groups[length] = 0\n",
    "length_groups[length + 1] = 0\n",
    "\n",
    "for filename in os.listdir(directory):\n",
    "    if filename.endswith(\".jsonl\"):\n",
    "        file_path = os.path.join(directory, filename)\n",
    "        with open(file_path, 'r') as file:\n",
    "            for line in file:\n",
    "                data = json.loads(line)\n",
    "                content = data['contents']\n",
    "                tokens = tokenizer.tokenize(content)\n",
    "                num_tokens = len(tokens)\n",
    "\n",
    "                for length in length_groups:\n",
    "                    if num_tokens <= length:\n",
    "                        length_groups[length] += 1\n",
    "                        break\n",
    "                else:\n",
    "                    length_groups[length] += 1\n",
    "    \n",
    "\n",
    "# Create a dictionary with the results\n",
    "results = {\n",
    "    \"Total number of documents\": doc_count,\n",
    "    \"Total number of paragraphs\": para_count,\n",
    "    \"Average number of tokens per paragraph\": total_tokens / para_count if para_count else 0,\n",
    "    \"Paragraph ID with max tokens\": max_para_id,\n",
    "    \"Max number of tokens\": max_tokens,\n",
    "    \"Paragraph ID with min tokens\": min_para_id,\n",
    "    \"Min number of tokens\": min_tokens,\n",
    "    \"Length groups\": length_groups\n",
    "}\n",
    "\n",
    "# Specify the file path for the JSON output\n",
    "output_file_path = \"data_exploration_results.json\"\n",
    "\n",
    "# Write the dictionary to a JSON file\n",
    "with open(output_file_path, 'w') as json_file:\n",
    "    json.dump(results, json_file, indent=4)\n",
    "\n",
    "print(f\"Results saved to {output_file_path}\")\n"
   ]
  },
  {
   "cell_type": "code",
   "execution_count": null,
   "metadata": {},
   "outputs": [],
   "source": [
    "step = 100\n",
    "length_groups = {}\n",
    "for length in range(step, max_tokens + 1, step):\n",
    "    length_groups[length] = 0\n",
    "length_groups[length + 1] = 0\n",
    "\n",
    "for filename in os.listdir(directory):\n",
    "    if filename.endswith(\".jsonl\"):\n",
    "        file_path = os.path.join(directory, filename)\n",
    "        with open(file_path, 'r') as file:\n",
    "            for line in file:\n",
    "                data = json.loads(line)\n",
    "                content = data['contents']\n",
    "                tokens = tokenizer.tokenize(content)\n",
    "                num_tokens = len(tokens)\n",
    "\n",
    "                for length in length_groups:\n",
    "                    if num_tokens <= length:\n",
    "                        length_groups[length] += 1\n",
    "                        break\n",
    "                else:\n",
    "                    length_groups[length] += 1\n",
    "\n",
    "\n",
    "length_groups"
   ]
  },
  {
   "cell_type": "markdown",
   "metadata": {},
   "source": [
    "## load exploration results and plot"
   ]
  },
  {
   "cell_type": "code",
   "execution_count": 3,
   "metadata": {},
   "outputs": [],
   "source": [
    "tokens_per_paragraph = None\n",
    "data_exploration_results = None\n",
    "\n",
    "with open(\"data_exploration_results.json\", 'r') as json_file:\n",
    "    data_exploration_results = json.load(json_file)\n",
    "\n",
    "with open(\"tokens_per_paragraph.json\", 'r') as json_file:\n",
    "    tokens_per_paragraph = json.load(json_file)\n",
    "\n",
    "tokens_per_paragraph = {key: int(value) for key, value in tokens_per_paragraph.items()}\n",
    "length_groups = {int(key): value for key, value in data_exploration_results[\"Length groups\"].items()}"
   ]
  },
  {
   "cell_type": "code",
   "execution_count": 4,
   "metadata": {},
   "outputs": [
    {
     "data": {
      "image/png": "[encoded data removed]",
      "text/plain": [
       "<Figure size 640x480 with 1 Axes>"
      ]
     },
     "metadata": {},
     "output_type": "display_data"
    }
   ],
   "source": [
    "labels = ['0-100', '101-200', '200+']\n",
    "lengths = [length_groups[100], length_groups[200], sum(length_groups.values()) - length_groups[100] - length_groups[200]]\n",
    "\n",
    "# Plot the pie chart\n",
    "plt.pie(lengths, labels=labels, autopct='%1.1f%%')\n",
    "\n",
    "# Add a title\n",
    "plt.title('Paragraph Tokens Distribution')\n",
    "\n",
    "# Display the plot\n",
    "plt.show()\n",
    "\n"
   ]
  },
  {
   "cell_type": "code",
   "execution_count": 5,
   "metadata": {},
   "outputs": [],
   "source": [
    "max_tokens = int(data_exploration_results['Max number of tokens'])\n",
    "\n",
    "step = 100\n",
    "length_groups = {10: 0}\n",
    "for length in range(step, max_tokens + 1, step):\n",
    "    length_groups[length] = 0\n",
    "length_groups[max_tokens] = 0\n",
    "\n",
    "for num_tokens in tokens_per_paragraph.values():\n",
    "    if num_tokens <= 10:\n",
    "        length_groups[10] += 1\n",
    "    else:\n",
    "        for length in length_groups:\n",
    "            if num_tokens <= length:\n",
    "                length_groups[length] += 1\n",
    "                break\n",
    "        else:\n",
    "            length_groups[length] += 1"
   ]
  },
  {
   "cell_type": "code",
   "execution_count": 6,
   "metadata": {},
   "outputs": [
    {
     "data": {
      "text/plain": [
       "{10: 25752,\n",
       " 100: 564411,\n",
       " 200: 347267,\n",
       " 300: 117522,\n",
       " 400: 36280,\n",
       " 500: 13069,\n",
       " 600: 5377,\n",
       " 700: 2816,\n",
       " 800: 1610,\n",
       " 900: 989,\n",
       " 1000: 602,\n",
       " 1100: 317,\n",
       " 1200: 274,\n",
       " 1300: 173,\n",
       " 1400: 136,\n",
       " 1500: 99,\n",
       " 1600: 70,\n",
       " 1700: 52,\n",
       " 1800: 33,\n",
       " 1900: 29,\n",
       " 2000: 19,\n",
       " 2100: 18,\n",
       " 2200: 33,\n",
       " 2300: 17,\n",
       " 2400: 19,\n",
       " 2500: 9,\n",
       " 2600: 7,\n",
       " 2700: 7,\n",
       " 2800: 7,\n",
       " 2900: 4,\n",
       " 3000: 7,\n",
       " 3100: 19,\n",
       " 3200: 13,\n",
       " 3300: 4,\n",
       " 3400: 4,\n",
       " 3500: 1,\n",
       " 3600: 3,\n",
       " 3700: 2,\n",
       " 3800: 0,\n",
       " 3900: 5,\n",
       " 4000: 1,\n",
       " 4100: 2,\n",
       " 4200: 1,\n",
       " 4300: 0,\n",
       " 4400: 0,\n",
       " 4500: 1,\n",
       " 4600: 0,\n",
       " 4700: 0,\n",
       " 4800: 0,\n",
       " 4900: 1,\n",
       " 5000: 1,\n",
       " 5100: 0,\n",
       " 5200: 0,\n",
       " 5300: 0,\n",
       " 5400: 2,\n",
       " 5500: 0,\n",
       " 5600: 0,\n",
       " 5700: 1,\n",
       " 5800: 0,\n",
       " 5900: 0,\n",
       " 6000: 0,\n",
       " 6100: 0,\n",
       " 6200: 0,\n",
       " 6300: 0,\n",
       " 6400: 0,\n",
       " 6500: 0,\n",
       " 6600: 0,\n",
       " 6700: 0,\n",
       " 6800: 0,\n",
       " 6900: 0,\n",
       " 7000: 0,\n",
       " 7100: 0,\n",
       " 7200: 0,\n",
       " 7300: 0,\n",
       " 7400: 0,\n",
       " 7500: 0,\n",
       " 7600: 0,\n",
       " 7700: 0,\n",
       " 7800: 0,\n",
       " 7900: 0,\n",
       " 8000: 0,\n",
       " 8100: 0,\n",
       " 8200: 0,\n",
       " 8300: 0,\n",
       " 8400: 0,\n",
       " 8500: 1,\n",
       " 8600: 1,\n",
       " 8700: 0,\n",
       " 8800: 0,\n",
       " 8900: 0,\n",
       " 9000: 0,\n",
       " 9100: 0,\n",
       " 9200: 0,\n",
       " 9300: 0,\n",
       " 9400: 0,\n",
       " 9500: 0,\n",
       " 9600: 1,\n",
       " 9700: 1,\n",
       " 9800: 1,\n",
       " 9900: 0,\n",
       " 10000: 0,\n",
       " 10100: 1,\n",
       " 10200: 0,\n",
       " 10300: 0,\n",
       " 10400: 0,\n",
       " 10500: 0,\n",
       " 10562: 1}"
      ]
     },
     "execution_count": 6,
     "metadata": {},
     "output_type": "execute_result"
    }
   ],
   "source": [
    "length_groups"
   ]
  },
  {
   "cell_type": "code",
   "execution_count": 35,
   "metadata": {},
   "outputs": [
    {
     "data": {
      "image/png": "[encoded data removed]",
      "text/plain": [
       "<Figure size 640x480 with 1 Axes>"
      ]
     },
     "metadata": {},
     "output_type": "display_data"
    }
   ],
   "source": [
    "labels = ['0-10', '11-100', '101-200', '200+']\n",
    "lengths = [length_groups[10], length_groups[100], length_groups[200], sum(length_groups.values()) - length_groups[100] - length_groups[200]]\n",
    "\n",
    "# Plot the pie chart\n",
    "plt.pie(lengths, labels=labels, autopct='%1.1f%%')\n",
    "\n",
    "# Add a title\n",
    "plt.title('Paragraph Tokens Distribution')\n",
    "\n",
    "# Display the plot\n",
    "plt.show()\n",
    "\n"
   ]
  },
  {
   "cell_type": "markdown",
   "metadata": {},
   "source": [
    "### filters those paragraph with tokens larger than 200"
   ]
  },
  {
   "cell_type": "code",
   "execution_count": 7,
   "metadata": {},
   "outputs": [],
   "source": [
    "def retrieve_section(doc_id):\n",
    "    parts = doc_id.split('_')\n",
    "\n",
    "    if 'mda' in parts:\n",
    "        section = parts[parts.index('mda')]\n",
    "    else:\n",
    "        # The section is 'partX_itemX'\n",
    "        section_index = next((i for i, part in enumerate(parts) if part.startswith('part')), None)\n",
    "        if section_index is not None:\n",
    "            section = '_'.join(parts[section_index:section_index+2])\n",
    "        else:\n",
    "            section = None\n",
    "    return section\n",
    "\n",
    "large_para_group = {}\n",
    "for doc_id, tokens in tokens_per_paragraph.items():\n",
    "    if tokens >= 200:\n",
    "        section = retrieve_section(doc_id)\n",
    "        if section not in large_para_group:\n",
    "            large_para_group[section] = 0\n",
    "        large_para_group[section] += 1"
   ]
  },
  {
   "cell_type": "code",
   "execution_count": 8,
   "metadata": {},
   "outputs": [
    {
     "data": {
      "image/png": "[encoded data removed]",
      "text/plain": [
       "<Figure size 640x480 with 1 Axes>"
      ]
     },
     "metadata": {},
     "output_type": "display_data"
    }
   ],
   "source": [
    "def plot_pie_chart(labels, datas, title):\n",
    "    # Plot the pie chart\n",
    "    plt.pie(datas, labels=labels, autopct='%1.1f%%')\n",
    "\n",
    "    # Add a title\n",
    "    plt.title(title)\n",
    "\n",
    "    # Display the plot\n",
    "    plt.show()\n",
    "\n",
    "labels = ['part1_item1a', 'part1_item1', 'part2_item7', 'others']\n",
    "datas = [large_para_group['part1_item1a'], large_para_group['part1_item1'], large_para_group['part2_item7'], sum(large_para_group.values()) - large_para_group['part1_item1a'] - large_para_group['part1_item1'] - large_para_group['part2_item7']]\n",
    "\n",
    "title = 'Paragraphs distribution with more than 200 tokens'\n",
    "plot_pie_chart(labels, datas, title)"
   ]
  },
  {
   "cell_type": "code",
   "execution_count": 9,
   "metadata": {},
   "outputs": [],
   "source": [
    "def retrieve_section(doc_id):\n",
    "    parts = doc_id.split('_')\n",
    "\n",
    "    if 'mda' in parts:\n",
    "        section = parts[parts.index('mda')]\n",
    "    else:\n",
    "        # The section is 'partX_itemX'\n",
    "        section_index = next((i for i, part in enumerate(parts) if part.startswith('part')), None)\n",
    "        if section_index is not None:\n",
    "            section = '_'.join(parts[section_index:section_index+2])\n",
    "        else:\n",
    "            section = None\n",
    "    return section\n",
    "\n",
    "large_para_group = {}\n",
    "for doc_id, tokens in tokens_per_paragraph.items():\n",
    "    if tokens >= 200:\n",
    "        section = retrieve_section(doc_id)\n",
    "        if section not in large_para_group:\n",
    "            large_para_group[section] = []\n",
    "        large_para_group[section].append(doc_id)"
   ]
  },
  {
   "cell_type": "code",
   "execution_count": 12,
   "metadata": {},
   "outputs": [
    {
     "data": {
      "text/plain": [
       "['20220218_10-K_1551152_part2_item7_para12',\n",
       " '20220218_10-K_1551152_part2_item7_para40',\n",
       " '20220218_10-K_1551152_part2_item7_para55',\n",
       " '20220218_10-K_1551152_part2_item7_para71',\n",
       " '20220218_10-K_1551152_part2_item7_para76']"
      ]
     },
     "execution_count": 12,
     "metadata": {},
     "output_type": "execute_result"
    }
   ],
   "source": [
    "large_para_group['part2_item7'][:5]"
   ]
  },
  {
   "cell_type": "code",
   "execution_count": null,
   "metadata": {},
   "outputs": [],
   "source": []
  }
 ],
 "metadata": {
  "kernelspec": {
   "display_name": "pyserini",
   "language": "python",
   "name": "python3"
  },
  "language_info": {
   "codemirror_mode": {
    "name": "ipython",
    "version": 3
   },
   "file_extension": ".py",
   "mimetype": "text/x-python",
   "name": "python",
   "nbconvert_exporter": "python",
   "pygments_lexer": "ipython3",
   "version": "3.10.13"
  }
 },
 "nbformat": 4,
 "nbformat_minor": 2
}
