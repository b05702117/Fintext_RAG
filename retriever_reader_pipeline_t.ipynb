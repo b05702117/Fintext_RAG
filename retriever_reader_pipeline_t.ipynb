{
 "cells": [
  {
   "cell_type": "code",
   "execution_count": null,
   "metadata": {},
   "outputs": [
    {
     "name": "stderr",
     "output_type": "stream",
     "text": [
      "Some weights of the model checkpoint at facebook/dpr-question_encoder-multiset-base were not used when initializing DPRQuestionEncoder: ['question_encoder.bert_model.pooler.dense.bias', 'question_encoder.bert_model.pooler.dense.weight']\n",
      "- This IS expected if you are initializing DPRQuestionEncoder from the checkpoint of a model trained on another task or with another architecture (e.g. initializing a BertForSequenceClassification model from a BertForPreTraining model).\n",
      "- This IS NOT expected if you are initializing DPRQuestionEncoder from the checkpoint of a model that you expect to be exactly identical (initializing a BertForSequenceClassification model from a BertForSequenceClassification model).\n"
     ]
    }
   ],
   "source": [
    "import utils # utils.py\n",
    "import os\n",
    "import json\n",
    "import torch\n",
    "from config import ROOT, RAW_DIR, FORMMATED_DIR, INDEX_DIR\n",
    "from pyserini.search.faiss import FaissSearcher, DprQueryEncoder\n",
    "from transformers import DPRReader, DPRReaderTokenizer\n",
    "from pyserini.search.lucene import LuceneSearcher\n",
    "from cnc_highlighting.encode import BertForHighlightPrediction\n",
    "\n",
    "K=10\n",
    "\n",
    "# dense searcher\n",
    "query_encoder = DprQueryEncoder(\"facebook/dpr-question_encoder-multiset-base\")\n",
    "dense_searcher = FaissSearcher(f\"{INDEX_DIR}/dpr-ctx_encoder-multiset-base\", query_encoder)\n",
    "\n",
    "class DenseDocumentRetriever: \n",
    "    def __init__(self, searcher, docs_dir=FORMMATED_DIR, k=K):\n",
    "        self.searcher = searcher\n",
    "        self.docs_dir = docs_dir\n",
    "        self.k = k\n",
    "    \n",
    "    def get_document_content(self, docid):\n",
    "        ''' return the paragraph content given the docid from raw jsonl files '''\n",
    "        file_name = docid.split('_')[0] + '_' + docid.split('_')[1] + '_' + docid.split('_')[2] + '.jsonl'\n",
    "        with open(os.path.join(self.docs_dir, file_name), \"r\") as open_file:\n",
    "            for line in open_file:\n",
    "                data = json.loads(line)\n",
    "                if data[\"id\"] == docid:\n",
    "                    return data[\"contents\"]\n",
    "        print(\"Paragraph not found.\")\n",
    "        return None\n",
    "\n",
    "    def search_documents(self, query):\n",
    "        ''' return the top k documents given the query '''\n",
    "        hits = self.searcher.search(query, k=self.k)\n",
    "        return hits\n",
    "\n",
    "    def extract_titles_and_texts(self, hits):\n",
    "        ''' Extract and return titles and texts from the top k hits '''\n",
    "        titles = [hits[i].docid for i in range(len(hits))]\n",
    "        texts = [self.get_document_content(hits[i].docid) for i in range(len(hits))]\n",
    "        return titles, texts\n",
    "    \n",
    "    def retrieve_and_process_documents(self, query):\n",
    "        ''' Retrieve the top k documents and prepare their data reader processing '''\n",
    "        hits = self.search_documents(query)\n",
    "        titles, texts = self.extract_titles_and_texts(hits)\n",
    "        return titles, texts\n",
    "  \n",
    "\n",
    "class DprHighlighter:\n",
    "    ''' \n",
    "    The DprHighlighter serves as the baseline to compare with generator \n",
    "    https://huggingface.co/facebook/dpr-reader-multiset-base\n",
    "    '''\n",
    "    def __init__(self, model_name: str = 'facebook/dpr-reader-multiset-base', tokenizer_name: str = 'facebook/dpr-reader-multiset-base', device: str = 'cpu'):\n",
    "        self.device = device\n",
    "        self.model = DPRReader.from_pretrained(model_name)\n",
    "        self.model.to(self.device)\n",
    "        self.tokenizer = DPRReaderTokenizer.from_pretrained(tokenizer_name)\n",
    "\n",
    "    @staticmethod\n",
    "    def find_max_idx(logits, dim=-1):\n",
    "        probs = torch.softmax(logits, dim=dim)\n",
    "        return torch.argmax(probs)\n",
    "\n",
    "    @staticmethod\n",
    "    def extract_answer_span(tokenizer, token_ids, start_position, end_position):\n",
    "        answer_tokens = token_ids[start_position : end_position + 1]\n",
    "        answer = tokenizer.decode(answer_tokens, skip_special_tokens=True)\n",
    "        return answer\n",
    "    \n",
    "    def highlighting_outputs(self, target, ref_titles, references):\n",
    "        ''' \n",
    "        target: the target paragraph that should be highlighted\n",
    "        ref_titles: the IDs of the reference paragraphs\n",
    "        references: the retrieved paragrpah, which are the reference for our highlighting work\n",
    "        BERT input: [CLS] <texts> [SEP] <questions> \n",
    "        TODO: \n",
    "            - 限制start_logits & end_logits在最後面? (作為好多個reference的最終highlight)\n",
    "            - titles should be concatenated with texts\n",
    "            - handle paragraph that is too long\n",
    "        '''\n",
    "        \n",
    "        targets = [target] * len(ref_titles) # our target paragraph that should be highlighted\n",
    "        \n",
    "        encoded_inputs = self.tokenizer(\n",
    "            questions=references,       # retrieved documents are the reference for our highlighting work\n",
    "            # titles=ref_titles,        # TODO: titles should be concatenated with texts\n",
    "            texts=targets,\n",
    "            padding=True if len(targets) > 1 else False,\n",
    "            return_tensors=\"pt\", \n",
    "            truncation=True             # TODO: handle paragraph that is too long\n",
    "        )\n",
    "        \n",
    "        outputs = self.model(**encoded_inputs)\n",
    "\n",
    "        return encoded_inputs, outputs\n",
    "    \n",
    "\n",
    "    def visualize_highlight_span(self, encoded_inputs, ref_titles, relevance_logits, start_logits, end_logits):\n",
    "        num_ref = start_logits.shape[0]\n",
    "\n",
    "        # Sort the relevance logits in descending order\n",
    "        relevance_probs = torch.softmax(relevance_logits, dim=-1)\n",
    "        sorted_indices = torch.argsort(relevance_probs, descending=True)\n",
    "\n",
    "        for i in sorted_indices:\n",
    "\n",
    "            start_idx = self.find_max_idx(start_logits[i])\n",
    "            end_idx = self.find_max_idx(end_logits[i])\n",
    "            highlighted_span = self.extract_answer_span(\n",
    "                self.tokenizer,\n",
    "                encoded_inputs['input_ids'][i],\n",
    "                start_idx,\n",
    "                end_idx\n",
    "            )\n",
    "            \n",
    "            print(f\"{relevance_probs[i]:.4f} reference {ref_titles[i]}:\")\n",
    "            print(f\"start_idx: {start_idx}, end_idx: {end_idx}, span: {highlighted_span}\")\n",
    "\n",
    "def print_hits(hits, display_top_n=10):\n",
    "    for i in range(display_top_n):\n",
    "        print(f'{i+1:2} {hits[i].docid:7} {hits[i].score:.5f}')\n",
    "        print(utils.retrieve_paragraph_from_docid(hits[i].docid))\n",
    "    print()"
   ]
  },
  {
   "cell_type": "code",
   "execution_count": null,
   "metadata": {},
   "outputs": [
    {
     "name": "stdout",
     "output_type": "stream",
     "text": [
      "On January 18, 2022, we entered into a definitive agreement to acquire Activision Blizzard, Inc. Activision Blizzard for 95.00 per share in an all-cash transaction valued at 68.7 billion, inclusive of Activision Blizzard s net cash. The acquisition has been approved by Activision Blizzard s shareholders, and we expect it to close in fiscal year 2023, subject to the satisfaction of certain regulatory approvals and other customary closing conditions.\n"
     ]
    }
   ],
   "source": [
    "target_paragraph = utils.retrieve_paragraph_from_docid(\"20221025_10-Q_789019_part1_item2_para334\")\n",
    "print(target_paragraph)"
   ]
  },
  {
   "cell_type": "code",
   "execution_count": null,
   "metadata": {},
   "outputs": [
    {
     "name": "stdout",
     "output_type": "stream",
     "text": [
      "Retrieval results from dense retriever:\n",
      " 1 20221025_10-Q_789019_part1_item2_para334 93.43729\n",
      "On January 18, 2022, we entered into a definitive agreement to acquire Activision Blizzard, Inc. Activision Blizzard for 95.00 per share in an all-cash transaction valued at 68.7 billion, inclusive of Activision Blizzard s net cash. The acquisition has been approved by Activision Blizzard s shareholders, and we expect it to close in fiscal year 2023, subject to the satisfaction of certain regulatory approvals and other customary closing conditions.\n",
      " 2 20220426_10-Q_789019_part1_item2_para492 93.06297\n",
      "On January 18, 2022, we entered into a definitive agreement to acquire Activision Blizzard, Inc. Activision Blizzard for 95.00 per share in an all-cash transaction valued at 68.7 billion, inclusive of Activision Blizzard s net cash. We expect this acquisition to close in fiscal year 2023, subject to approval by Activision Blizzard s shareholders, the satisfaction of certain regulatory approvals, and other customary closing conditions.\n",
      " 3 20220125_10-Q_789019_part1_item2_para474 93.06297\n",
      "On January 18, 2022, we entered into a definitive agreement to acquire Activision Blizzard, Inc. Activision Blizzard for 95.00 per share in an all-cash transaction valued at 68.7 billion, inclusive of Activision Blizzard s net cash. We expect this acquisition to close in fiscal year 2023, subject to approval by Activision Blizzard s shareholders, the satisfaction of certain regulatory approvals, and other customary closing conditions.\n",
      " 4 20220125_10-Q_789019_part1_item1_para289 91.04508\n",
      "billion and billion for the three and six months ended December 31, 2021, respectively, and billion and billion for the three and six months ended December 31, 2020, respectively. These amounts are primarily included in Server products and cloud services, Office products and cloud services, and LinkedIn in the table above. , we entered into a definitive agreement to acquire Activision Blizzard, Inc. Activision Blizzard for per share in an all-cash transaction valued at billion, inclusive of Activision Blizzard s net cash. Activision Blizzard is a leader in game development and an interactive entertainment content publisher. The acquisition will accelerate the growth in our gaming business across mobile, PC, console, and cloud and will provide building blocks for the metaverse. We expect this acquisition to close in fiscal year 2023, subject to approval by Activision Blizzard s shareholders, the satisfaction of certain regulatory approvals, and other customary closing conditions.\n",
      " 5 20220426_10-Q_789019_part1_item1_para169 90.97601\n",
      "On , we entered into a definitive agreement to acquire Activision Blizzard, Inc. Activision Blizzard for per share in an all-cash transaction valued at billion, inclusive of Activision Blizzard s net cash. Activision Blizzard is a leader in game development and an interactive entertainment content publisher. The acquisition will accelerate the growth in our gaming business across mobile, PC, console, and cloud and will provide building blocks for the metaverse. We expect this acquisition to close in fiscal year 2023, subject to approval by Activision Blizzard s shareholders, the satisfaction of certain regulatory approvals, and other customary closing conditions.\n",
      " 6 20221025_10-Q_789019_part1_item1_para158 90.88916\n",
      "On , we entered into a definitive agreement to acquire Activision Blizzard, Inc. Activision Blizzard for per share in an all-cash transaction valued at billion, inclusive of Activision Blizzard s net cash. Activision Blizzard is a leader in game development and an interactive entertainment content publisher. The acquisition will accelerate the growth in our gaming business across mobile, PC, console, and cloud and will provide building blocks for the metaverse. The acquisition has been approved by Activision Blizzard s shareholders, and we expect it to close in fiscal year 2023, subject to the satisfaction of certain regulatory approvals and other customary closing conditions.\n",
      " 7 20220125_10-Q_789019_part2_item1a_para28 88.25478\n",
      "Acquisitions, joint ventures, and strategic alliances may have an adverse effect on our business. We expect to continue making acquisitions and entering into joint ventures and strategic alliances as part of our long-term business strategy. For example, in October 2018 we completed our acquisition of GitHub, Inc. GitHub for 7.5 billion, in March 2021 we completed our acquisition of ZeniMax Media Inc. for 8.1 billion, in April 2021 we announced a definitive agreement to acquire Nuance Communications, Inc. for 19.7 billion, and in January 2022 we announced a definitive agreement to acquire Activision Blizzard, Inc. for 68 .7 billion. These acquisitions and other transactions and arrangements involve significant challenges and risks, including that they do not advance our business strategy, that we get an unsatisfactory return on our investment, that we have difficulty integrating and retaining new employees, business systems, and technology, that they distract management from our other businesses, or that announced transactions may not be completed. If an arrangement fails to adequately anticipate changing circumstances and interests of a party, it may result in early termination or renegotiation of the arrangement. The success of these transactions and arrangements will depend in part on our ability to leverage them to enhance our existing products and services or develop compelling new ones. It may take longer than expected to realize the full benefits from these transactions and arrangements such as increased revenue or enhanced efficiencies, or the benefits may ultimately be smaller than we expected. These events could adversely affect our consolidated financial statements.\n",
      " 8 20221025_10-Q_789019_part2_item1a_para29 87.95569\n",
      "Acquisitions, joint ventures, and strategic alliances may have an adverse effect on our business. We expect to continue making acquisitions and entering into joint ventures and strategic alliances as part of our long-term business strategy. For example , in March 2021 we completed our acquisition of ZeniMax Media Inc. for 8.1 billion , and in March 2022 we completed our acquisition of Nuance Communications, Inc. for 18.8 billion . In January 2022 we announced a definitive agreement to acquire Activision Blizzard, Inc. for 68.7 billion . These acquisitions and other transactions and arrangements involve significant challenges and risks, including that they do not advance our business strategy, that we get an unsatisfactory return on our investment, that they raise new compliance-related obligations and challenges, that we have difficulty integrating and retaining new employees, business systems, and technology, that they distract management from our other businesses , or that announced transactions may not be completed . If an arrangement fails to adequately anticipate changing circumstances and interests of a party, it may result in early termination or renegotiation of the arrangement. The success of these transactions and arrangements will depend in part on our ability to leverage them to enhance our existing products and services or develop compelling new ones , as well as acquired companies ability to meet our policies and processes in areas such as data governance, privacy, and cybersecurity. It may take longer than expected to realize the full benefits from these transactions and arrangements such as increased revenue or enhanced efficiencies, or the benefits may ultimately be smaller than we expected. These events could adversely affect our consolidated financial statements .\n",
      " 9 20220426_10-Q_789019_part2_item1a_para28 87.73249\n",
      "Acquisitions, joint ventures, and strategic alliances may have an adverse effect on our business. We expect to continue making acquisitions and entering into joint ventures and strategic alliances as part of our long-term business strategy. For example, in October 2018 we completed our acquisition of GitHub, Inc. GitHub for 7.5 billion, in March 2021 we completed our acquisition of ZeniMax Media Inc. for 8.1 billion, and in March 2022 we completed our acquisition of Nuance Communications, Inc. for 18.8 billion. In January 2022 we announced a definitive agreement to acquire Activision Blizzard, Inc. for 68.7 billion. These acquisitions and other transactions and arrangements involve significant challenges and risks, including that they do not advance our business strategy, that we get an unsatisfactory return on our investment, that we have difficulty integrating and retaining new employees, business systems, and technology, that they distract management from our other businesses, or that announced transactions may not be completed. If an arrangement fails to adequately anticipate changing circumstances and interests of a party, it may result in early termination or renegotiation of the arrangement. The success of these transactions and arrangements will depend in part on our ability to leverage them to enhance our existing products and services or develop compelling new ones. It may take longer than expected to realize the full benefits from these transactions and arrangements such as increased revenue or enhanced efficiencies, or the benefits may ultimately be smaller than we expected. These events could adversely affect our consolidated financial statements.\n",
      "10 20220125_10-Q_789019_part1_item2_para475 79.68345\n",
      "On April 11, 2021, we entered into a definitive agreement to acquire Nuance Communications, Inc. Nuance for 56.00 per share in an all-cash transaction valued at 19.7 billion, inclusive of Nuance s net debt. The acquisition has been approved by Nuance s shareholders, and we expect it to close in the third quarter of fiscal year 2022, subject to the satisfaction of certain regulatory approvals and other customary closing conditions.\n",
      "\n",
      "\n"
     ]
    }
   ],
   "source": [
    "\n",
    "dense_retriever = DenseDocumentRetriever(dense_searcher)\n",
    "\n",
    "dense_hits = dense_retriever.search_documents(target_paragraph)\n",
    "\n",
    "# titles & texts format for DPR highlighter\n",
    "dense_titles, dense_texts = dense_retriever.retrieve_and_process_documents(target_paragraph)\n",
    "\n",
    "print(\"Retrieval results from dense retriever:\")\n",
    "print_hits(dense_hits)\n",
    "print()"
   ]
  },
  {
   "cell_type": "code",
   "execution_count": null,
   "metadata": {},
   "outputs": [
    {
     "name": "stderr",
     "output_type": "stream",
     "text": [
      "Some weights of the model checkpoint at facebook/dpr-reader-multiset-base were not used when initializing DPRReader: ['span_predictor.encoder.bert_model.pooler.dense.bias', 'span_predictor.encoder.bert_model.pooler.dense.weight']\n",
      "- This IS expected if you are initializing DPRReader from the checkpoint of a model trained on another task or with another architecture (e.g. initializing a BertForSequenceClassification model from a BertForPreTraining model).\n",
      "- This IS NOT expected if you are initializing DPRReader from the checkpoint of a model that you expect to be exactly identical (initializing a BertForSequenceClassification model from a BertForSequenceClassification model).\n",
      "The tokenizer class you load from this checkpoint is not the same type as the class this function is called from. It may result in unexpected tokenization. \n",
      "The tokenizer class you load from this checkpoint is 'DPRQuestionEncoderTokenizer'. \n",
      "The class this function is called from is 'DPRReaderTokenizer'.\n"
     ]
    },
    {
     "name": "stdout",
     "output_type": "stream",
     "text": [
      "Highlighting results from dense retriever: (desc)\n",
      "0.7695 reference 20220125_10-Q_789019_part1_item2_para475:\n",
      "start_idx: 110, end_idx: 110, span: blizzard\n",
      "0.0764 reference 20221025_10-Q_789019_part1_item1_para158:\n",
      "start_idx: 128, end_idx: 132, span: january 18, 2022\n",
      "0.0677 reference 20220426_10-Q_789019_part1_item1_para169:\n",
      "start_idx: 125, end_idx: 129, span: january 18, 2022\n",
      "0.0245 reference 20220426_10-Q_789019_part1_item2_para492:\n",
      "start_idx: 115, end_idx: 110, span: \n",
      "0.0245 reference 20220125_10-Q_789019_part1_item2_para474:\n",
      "start_idx: 115, end_idx: 110, span: \n",
      "0.0228 reference 20221025_10-Q_789019_part1_item2_para334:\n",
      "start_idx: 118, end_idx: 144, span: 95. 00 per share in an all - cash transaction valued at 68. 7 billion, inclusive of activision blizzard s net cash.\n",
      "0.0059 reference 20221025_10-Q_789019_part2_item1a_para29:\n",
      "start_idx: 347, end_idx: 347, span: blizzard\n",
      "0.0029 reference 20220426_10-Q_789019_part2_item1a_para28:\n",
      "start_idx: 151, end_idx: 331, span: advance our business strategy, that we get an unsatisfactory return on our investment, that we have difficulty integrating and retaining new employees, business systems, and technology, that they distract management from our other businesses, or that announced transactions may not be completed. if an arrangement fails to adequately anticipate changing circumstances and interests of a party, it may result in early termination or renegotiation of the arrangement. the success of these transactions and arrangements will depend in part on our ability to leverage them to enhance our existing products and services or develop compelling new ones. it may take longer than expected to realize the full benefits from these transactions and arrangements such as increased revenue or enhanced efficiencies, or the benefits may ultimately be smaller than we expected. these events could adversely affect our consolidated financial statements. on january 18, 2022, we entered into a definitive agreement to acquire activision\n",
      "0.0028 reference 20220125_10-Q_789019_part2_item1a_para28:\n",
      "start_idx: 152, end_idx: 332, span: advance our business strategy, that we get an unsatisfactory return on our investment, that we have difficulty integrating and retaining new employees, business systems, and technology, that they distract management from our other businesses, or that announced transactions may not be completed. if an arrangement fails to adequately anticipate changing circumstances and interests of a party, it may result in early termination or renegotiation of the arrangement. the success of these transactions and arrangements will depend in part on our ability to leverage them to enhance our existing products and services or develop compelling new ones. it may take longer than expected to realize the full benefits from these transactions and arrangements such as increased revenue or enhanced efficiencies, or the benefits may ultimately be smaller than we expected. these events could adversely affect our consolidated financial statements. on january 18, 2022, we entered into a definitive agreement to acquire activision\n",
      "0.0028 reference 20220125_10-Q_789019_part1_item1_para289:\n",
      "start_idx: 224, end_idx: 225, span: 7 billion\n",
      "\n"
     ]
    }
   ],
   "source": [
    "dpr_highlighter = DprHighlighter(model_name=\"facebook/dpr-reader-multiset-base\", tokenizer_name=\"facebook/dpr-reader-multiset-base\")\n",
    "\n",
    "dense_encoded_inputs, dense_outputs = dpr_highlighter.highlighting_outputs(target_paragraph, dense_titles, dense_texts)\n",
    "\n",
    "print(\"Highlighting results from dense retriever: (desc)\")\n",
    "dpr_highlighter.visualize_highlight_span(dense_encoded_inputs, dense_titles, dense_outputs.relevance_logits, dense_outputs.start_logits, dense_outputs.end_logits)\n",
    "# dpr_highlighter.visualize_highlight_span(dense_encoded_inputs, dense_outputs.start_logits, dense_outputs.end_logits)\n",
    "print()\n"
   ]
  },
  {
   "cell_type": "code",
   "execution_count": null,
   "metadata": {},
   "outputs": [
    {
     "data": {
      "text/plain": [
       "['On January 18, 2022, we entered into a definitive agreement to acquire Activision Blizzard, Inc. Activision Blizzard for 95.00 per share in an all-cash transaction valued at 68.7 billion, inclusive of Activision Blizzard s net cash. The acquisition has been approved by Activision Blizzard s shareholders, and we expect it to close in fiscal year 2023, subject to the satisfaction of certain regulatory approvals and other customary closing conditions.',\n",
       " 'On January 18, 2022, we entered into a definitive agreement to acquire Activision Blizzard, Inc. Activision Blizzard for 95.00 per share in an all-cash transaction valued at 68.7 billion, inclusive of Activision Blizzard s net cash. We expect this acquisition to close in fiscal year 2023, subject to approval by Activision Blizzard s shareholders, the satisfaction of certain regulatory approvals, and other customary closing conditions.',\n",
       " 'On January 18, 2022, we entered into a definitive agreement to acquire Activision Blizzard, Inc. Activision Blizzard for 95.00 per share in an all-cash transaction valued at 68.7 billion, inclusive of Activision Blizzard s net cash. We expect this acquisition to close in fiscal year 2023, subject to approval by Activision Blizzard s shareholders, the satisfaction of certain regulatory approvals, and other customary closing conditions.',\n",
       " 'billion and billion for the three and six months ended December 31, 2021, respectively, and billion and billion for the three and six months ended December 31, 2020, respectively. These amounts are primarily included in Server products and cloud services, Office products and cloud services, and LinkedIn in the table above. , we entered into a definitive agreement to acquire Activision Blizzard, Inc. Activision Blizzard for per share in an all-cash transaction valued at billion, inclusive of Activision Blizzard s net cash. Activision Blizzard is a leader in game development and an interactive entertainment content publisher. The acquisition will accelerate the growth in our gaming business across mobile, PC, console, and cloud and will provide building blocks for the metaverse. We expect this acquisition to close in fiscal year 2023, subject to approval by Activision Blizzard s shareholders, the satisfaction of certain regulatory approvals, and other customary closing conditions.',\n",
       " 'On , we entered into a definitive agreement to acquire Activision Blizzard, Inc. Activision Blizzard for per share in an all-cash transaction valued at billion, inclusive of Activision Blizzard s net cash. Activision Blizzard is a leader in game development and an interactive entertainment content publisher. The acquisition will accelerate the growth in our gaming business across mobile, PC, console, and cloud and will provide building blocks for the metaverse. We expect this acquisition to close in fiscal year 2023, subject to approval by Activision Blizzard s shareholders, the satisfaction of certain regulatory approvals, and other customary closing conditions.',\n",
       " 'On , we entered into a definitive agreement to acquire Activision Blizzard, Inc. Activision Blizzard for per share in an all-cash transaction valued at billion, inclusive of Activision Blizzard s net cash. Activision Blizzard is a leader in game development and an interactive entertainment content publisher. The acquisition will accelerate the growth in our gaming business across mobile, PC, console, and cloud and will provide building blocks for the metaverse. The acquisition has been approved by Activision Blizzard s shareholders, and we expect it to close in fiscal year 2023, subject to the satisfaction of certain regulatory approvals and other customary closing conditions.',\n",
       " 'Acquisitions, joint ventures, and strategic alliances may have an adverse effect on our business. We expect to continue making acquisitions and entering into joint ventures and strategic alliances as part of our long-term business strategy. For example, in October 2018 we completed our acquisition of GitHub, Inc. GitHub for 7.5 billion, in March 2021 we completed our acquisition of ZeniMax Media Inc. for 8.1 billion, in April 2021 we announced a definitive agreement to acquire Nuance Communications, Inc. for 19.7 billion, and in January 2022 we announced a definitive agreement to acquire Activision Blizzard, Inc. for 68 .7 billion. These acquisitions and other transactions and arrangements involve significant challenges and risks, including that they do not advance our business strategy, that we get an unsatisfactory return on our investment, that we have difficulty integrating and retaining new employees, business systems, and technology, that they distract management from our other businesses, or that announced transactions may not be completed. If an arrangement fails to adequately anticipate changing circumstances and interests of a party, it may result in early termination or renegotiation of the arrangement. The success of these transactions and arrangements will depend in part on our ability to leverage them to enhance our existing products and services or develop compelling new ones. It may take longer than expected to realize the full benefits from these transactions and arrangements such as increased revenue or enhanced efficiencies, or the benefits may ultimately be smaller than we expected. These events could adversely affect our consolidated financial statements.',\n",
       " 'Acquisitions, joint ventures, and strategic alliances may have an adverse effect on our business. We expect to continue making acquisitions and entering into joint ventures and strategic alliances as part of our long-term business strategy. For example , in March 2021 we completed our acquisition of ZeniMax Media Inc. for 8.1 billion , and in March 2022 we completed our acquisition of Nuance Communications, Inc. for 18.8 billion . In January 2022 we announced a definitive agreement to acquire Activision Blizzard, Inc. for 68.7 billion . These acquisitions and other transactions and arrangements involve significant challenges and risks, including that they do not advance our business strategy, that we get an unsatisfactory return on our investment, that they raise new compliance-related obligations and challenges, that we have difficulty integrating and retaining new employees, business systems, and technology, that they distract management from our other businesses , or that announced transactions may not be completed . If an arrangement fails to adequately anticipate changing circumstances and interests of a party, it may result in early termination or renegotiation of the arrangement. The success of these transactions and arrangements will depend in part on our ability to leverage them to enhance our existing products and services or develop compelling new ones , as well as acquired companies ability to meet our policies and processes in areas such as data governance, privacy, and cybersecurity. It may take longer than expected to realize the full benefits from these transactions and arrangements such as increased revenue or enhanced efficiencies, or the benefits may ultimately be smaller than we expected. These events could adversely affect our consolidated financial statements .',\n",
       " 'Acquisitions, joint ventures, and strategic alliances may have an adverse effect on our business. We expect to continue making acquisitions and entering into joint ventures and strategic alliances as part of our long-term business strategy. For example, in October 2018 we completed our acquisition of GitHub, Inc. GitHub for 7.5 billion, in March 2021 we completed our acquisition of ZeniMax Media Inc. for 8.1 billion, and in March 2022 we completed our acquisition of Nuance Communications, Inc. for 18.8 billion. In January 2022 we announced a definitive agreement to acquire Activision Blizzard, Inc. for 68.7 billion. These acquisitions and other transactions and arrangements involve significant challenges and risks, including that they do not advance our business strategy, that we get an unsatisfactory return on our investment, that we have difficulty integrating and retaining new employees, business systems, and technology, that they distract management from our other businesses, or that announced transactions may not be completed. If an arrangement fails to adequately anticipate changing circumstances and interests of a party, it may result in early termination or renegotiation of the arrangement. The success of these transactions and arrangements will depend in part on our ability to leverage them to enhance our existing products and services or develop compelling new ones. It may take longer than expected to realize the full benefits from these transactions and arrangements such as increased revenue or enhanced efficiencies, or the benefits may ultimately be smaller than we expected. These events could adversely affect our consolidated financial statements.',\n",
       " 'On April 11, 2021, we entered into a definitive agreement to acquire Nuance Communications, Inc. Nuance for 56.00 per share in an all-cash transaction valued at 19.7 billion, inclusive of Nuance s net debt. The acquisition has been approved by Nuance s shareholders, and we expect it to close in the third quarter of fiscal year 2022, subject to the satisfaction of certain regulatory approvals and other customary closing conditions.']"
      ]
     },
     "metadata": {},
     "output_type": "display_data"
    }
   ],
   "source": [
    "dense_texts"
   ]
  },
  {
   "cell_type": "code",
   "execution_count": null,
   "metadata": {},
   "outputs": [
    {
     "data": {
      "text/plain": [
       "torch.Size([10, 422])"
      ]
     },
     "metadata": {},
     "output_type": "display_data"
    }
   ],
   "source": [
    "dense_encoded_inputs['input_ids'].shape"
   ]
  },
  {
   "cell_type": "code",
   "execution_count": null,
   "metadata": {},
   "outputs": [
    {
     "name": "stderr",
     "output_type": "stream",
     "text": [
      "The tokenizer class you load from this checkpoint is not the same type as the class this function is called from. It may result in unexpected tokenization. \n",
      "The tokenizer class you load from this checkpoint is 'DPRQuestionEncoderTokenizer'. \n",
      "The class this function is called from is 'DPRReaderTokenizer'.\n",
      "Some weights of the model checkpoint at facebook/dpr-reader-multiset-base were not used when initializing DPRReader: ['span_predictor.encoder.bert_model.pooler.dense.bias', 'span_predictor.encoder.bert_model.pooler.dense.weight']\n",
      "- This IS expected if you are initializing DPRReader from the checkpoint of a model trained on another task or with another architecture (e.g. initializing a BertForSequenceClassification model from a BertForPreTraining model).\n",
      "- This IS NOT expected if you are initializing DPRReader from the checkpoint of a model that you expect to be exactly identical (initializing a BertForSequenceClassification model from a BertForSequenceClassification model).\n"
     ]
    },
    {
     "name": "stdout",
     "output_type": "stream",
     "text": [
      "torch.Size([1, 407])\n",
      "reference: Acquisitions, joint ventures, and strategic alliances may have an adverse effect on our business. We expect to continue making acquisitions and entering into joint ventures and strategic alliances as part of our long-term business strategy. For example, in October 2018 we completed our acquisition of GitHub, Inc. GitHub for 7.5 billion, in March 2021 we completed our acquisition of ZeniMax Media Inc. for 8.1 billion, and in March 2022 we completed our acquisition of Nuance Communications, Inc. for 18.8 billion. In January 2022 we announced a definitive agreement to acquire Activision Blizzard, Inc. for 68.7 billion. These acquisitions and other transactions and arrangements involve significant challenges and risks, including that they do not advance our business strategy, that we get an unsatisfactory return on our investment, that we have difficulty integrating and retaining new employees, business systems, and technology, that they distract management from our other businesses, or that announced transactions may not be completed. If an arrangement fails to adequately anticipate changing circumstances and interests of a party, it may result in early termination or renegotiation of the arrangement. The success of these transactions and arrangements will depend in part on our ability to leverage them to enhance our existing products and services or develop compelling new ones. It may take longer than expected to realize the full benefits from these transactions and arrangements such as increased revenue or enhanced efficiencies, or the benefits may ultimately be smaller than we expected. These events could adversely affect our consolidated financial statements.\n",
      "start_idx: 151, end_idx: 331\n",
      "span: advance our business strategy, that we get an unsatisfactory return on our investment, that we have difficulty integrating and retaining new employees, business systems, and technology, that they distract management from our other businesses, or that announced transactions may not be completed. if an arrangement fails to adequately anticipate changing circumstances and interests of a party, it may result in early termination or renegotiation of the arrangement. the success of these transactions and arrangements will depend in part on our ability to leverage them to enhance our existing products and services or develop compelling new ones. it may take longer than expected to realize the full benefits from these transactions and arrangements such as increased revenue or enhanced efficiencies, or the benefits may ultimately be smaller than we expected. these events could adversely affect our consolidated financial statements. on january 18, 2022, we entered into a definitive agreement to acquire activision\n"
     ]
    }
   ],
   "source": [
    "from transformers import DPRReader, DPRReaderTokenizer\n",
    "\n",
    "tokenizer = DPRReaderTokenizer.from_pretrained(\"facebook/dpr-reader-multiset-base\")\n",
    "model = DPRReader.from_pretrained(\"facebook/dpr-reader-multiset-base\")\n",
    "\n",
    "target_paragraph = utils.retrieve_paragraph_from_docid(\"20221025_10-Q_789019_part1_item2_para334\")\n",
    "reference = utils.retrieve_paragraph_from_docid(\"20220426_10-Q_789019_part2_item1a_para28\")\n",
    "\n",
    "encoded_inputs = tokenizer(\n",
    "    questions=[reference],\n",
    "    texts=[target_paragraph],\n",
    "    return_tensors=\"pt\",\n",
    "    )\n",
    "\n",
    "print(encoded_inputs['input_ids'].shape)\n",
    "\n",
    "outputs = model(**encoded_inputs)\n",
    "start_logits = outputs.start_logits\n",
    "end_logits = outputs.end_logits\n",
    "relevance_logits = outputs.relevance_logits\n",
    "\n",
    "start_idx = torch.argmax(torch.softmax(start_logits, dim=-1))\n",
    "end_idx = torch.argmax(torch.softmax(end_logits, dim=-1))\n",
    "\n",
    "# visualize the highlighted span\n",
    "answer_tokens = encoded_inputs['input_ids'][0][start_idx : end_idx + 1]\n",
    "answer = tokenizer.decode(answer_tokens, skip_special_tokens=True)\n",
    "\n",
    "print(f\"reference: {reference}\")\n",
    "print(f\"start_idx: {start_idx}, end_idx: {end_idx}\")\n",
    "print(f\"span: {answer}\")"
   ]
  },
  {
   "cell_type": "code",
   "execution_count": null,
   "metadata": {},
   "outputs": [
    {
     "name": "stdout",
     "output_type": "stream",
     "text": [
      "tokens length of target_paragraph: 91\n",
      "tokents length of reference: 313\n"
     ]
    }
   ],
   "source": [
    "print(f\"tokens length of target_paragraph: {len(tokenizer.tokenize(target_paragraph))}\")\n",
    "print(f\"tokents length of reference: {len(tokenizer.tokenize(reference))}\")"
   ]
  },
  {
   "cell_type": "code",
   "execution_count": null,
   "metadata": {},
   "outputs": [
    {
     "data": {
      "text/plain": [
       "torch.Size([1, 407])"
      ]
     },
     "metadata": {},
     "output_type": "display_data"
    }
   ],
   "source": [
    "start_logits.shape"
   ]
  },
  {
   "cell_type": "code",
   "execution_count": null,
   "metadata": {},
   "outputs": [
    {
     "name": "stderr",
     "output_type": "stream",
     "text": [
      "The tokenizer class you load from this checkpoint is not the same type as the class this function is called from. It may result in unexpected tokenization. \n",
      "The tokenizer class you load from this checkpoint is 'DPRQuestionEncoderTokenizer'. \n",
      "The class this function is called from is 'DPRReaderTokenizer'.\n",
      "Some weights of the model checkpoint at facebook/dpr-reader-multiset-base were not used when initializing DPRReader: ['span_predictor.encoder.bert_model.pooler.dense.bias', 'span_predictor.encoder.bert_model.pooler.dense.weight']\n",
      "- This IS expected if you are initializing DPRReader from the checkpoint of a model trained on another task or with another architecture (e.g. initializing a BertForSequenceClassification model from a BertForPreTraining model).\n",
      "- This IS NOT expected if you are initializing DPRReader from the checkpoint of a model that you expect to be exactly identical (initializing a BertForSequenceClassification model from a BertForSequenceClassification model).\n"
     ]
    },
    {
     "name": "stdout",
     "output_type": "stream",
     "text": [
      "torch.Size([1, 103])\n",
      "reference: Acquisitions, joint ventures, and strategic alliances may have an adverse effect on our business. We expect to continue making acquisitions and entering into joint ventures and strategic alliances as part of our long-term business strategy. For example, in October 2018 we completed our acquisition of GitHub, Inc. GitHub for 7.5 billion, in March 2021 we completed our acquisition of ZeniMax Media Inc. for 8.1 billion, and in March 2022 we completed our acquisition of Nuance Communications, Inc. for 18.8 billion. In January 2022 we announced a definitive agreement to acquire Activision Blizzard, Inc. for 68.7 billion. These acquisitions and other transactions and arrangements involve significant challenges and risks, including that they do not advance our business strategy, that we get an unsatisfactory return on our investment, that we have difficulty integrating and retaining new employees, business systems, and technology, that they distract management from our other businesses, or that announced transactions may not be completed. If an arrangement fails to adequately anticipate changing circumstances and interests of a party, it may result in early termination or renegotiation of the arrangement. The success of these transactions and arrangements will depend in part on our ability to leverage them to enhance our existing products and services or develop compelling new ones. It may take longer than expected to realize the full benefits from these transactions and arrangements such as increased revenue or enhanced efficiencies, or the benefits may ultimately be smaller than we expected. These events could adversely affect our consolidated financial statements.\n",
      "start_idx: 32, end_idx: 33\n",
      "span: activision\n"
     ]
    }
   ],
   "source": [
    "from transformers import DPRReader, DPRReaderTokenizer\n",
    "\n",
    "tokenizer = DPRReaderTokenizer.from_pretrained(\"facebook/dpr-reader-multiset-base\")\n",
    "model = DPRReader.from_pretrained(\"facebook/dpr-reader-multiset-base\")\n",
    "\n",
    "query = \"What company does micfrosoft acquire?\"\n",
    "target_paragraph = utils.retrieve_paragraph_from_docid(\"20221025_10-Q_789019_part1_item2_para334\")\n",
    "\n",
    "encoded_inputs = tokenizer(\n",
    "    questions=[query],\n",
    "    texts=[target_paragraph],\n",
    "    return_tensors=\"pt\",\n",
    "    )\n",
    "\n",
    "print(encoded_inputs['input_ids'].shape)\n",
    "\n",
    "outputs = model(**encoded_inputs)\n",
    "start_logits = outputs.start_logits\n",
    "end_logits = outputs.end_logits\n",
    "relevance_logits = outputs.relevance_logits\n",
    "\n",
    "start_idx = torch.argmax(torch.softmax(start_logits, dim=-1))\n",
    "end_idx = torch.argmax(torch.softmax(end_logits, dim=-1))\n",
    "\n",
    "# visualize the highlighted span\n",
    "answer_tokens = encoded_inputs['input_ids'][0][start_idx : end_idx + 1]\n",
    "answer = tokenizer.decode(answer_tokens, skip_special_tokens=True)\n",
    "\n",
    "print(f\"reference: {reference}\")\n",
    "print(f\"start_idx: {start_idx}, end_idx: {end_idx}\")\n",
    "print(f\"span: {answer}\")"
   ]
  },
  {
   "cell_type": "code",
   "execution_count": null,
   "metadata": {},
   "outputs": [
    {
     "name": "stdout",
     "output_type": "stream",
     "text": [
      "What company does micfrosoft acquire?\n",
      "tokents length of query: 9\n",
      "tokents length of target_paragraph: 91\n"
     ]
    }
   ],
   "source": [
    "print(query)\n",
    "print(f\"tokents length of query: {len(tokenizer.tokenize(query))}\")\n",
    "print(f\"tokents length of target_paragraph: {len(tokenizer.tokenize(target_paragraph))}\")"
   ]
  },
  {
   "cell_type": "code",
   "execution_count": null,
   "metadata": {},
   "outputs": [
    {
     "data": {
      "text/plain": [
       "'On January 18, 2022, we entered into a definitive agreement to acquire Activision Blizzard, Inc. Activision Blizzard for 95.00 per share in an all-cash transaction valued at 68.7 billion, inclusive of Activision Blizzard s net cash. The acquisition has been approved by Activision Blizzard s shareholders, and we expect it to close in fiscal year 2023, subject to the satisfaction of certain regulatory approvals and other customary closing conditions.'"
      ]
     },
     "metadata": {},
     "output_type": "display_data"
    }
   ],
   "source": [
    "target_paragraph"
   ]
  },
  {
   "cell_type": "code",
   "execution_count": null,
   "metadata": {},
   "outputs": [
    {
     "name": "stderr",
     "output_type": "stream",
     "text": [
      "The tokenizer class you load from this checkpoint is not the same type as the class this function is called from. It may result in unexpected tokenization. \n",
      "The tokenizer class you load from this checkpoint is 'DPRQuestionEncoderTokenizer'. \n",
      "The class this function is called from is 'DPRReaderTokenizer'.\n",
      "Some weights of the model checkpoint at facebook/dpr-reader-multiset-base were not used when initializing DPRReader: ['span_predictor.encoder.bert_model.pooler.dense.bias', 'span_predictor.encoder.bert_model.pooler.dense.weight']\n",
      "- This IS expected if you are initializing DPRReader from the checkpoint of a model trained on another task or with another architecture (e.g. initializing a BertForSequenceClassification model from a BertForPreTraining model).\n",
      "- This IS NOT expected if you are initializing DPRReader from the checkpoint of a model that you expect to be exactly identical (initializing a BertForSequenceClassification model from a BertForSequenceClassification model).\n"
     ]
    },
    {
     "name": "stdout",
     "output_type": "stream",
     "text": [
      "torch.Size([1, 22])\n",
      "reference: Acquisitions, joint ventures, and strategic alliances may have an adverse effect on our business. We expect to continue making acquisitions and entering into joint ventures and strategic alliances as part of our long-term business strategy. For example, in October 2018 we completed our acquisition of GitHub, Inc. GitHub for 7.5 billion, in March 2021 we completed our acquisition of ZeniMax Media Inc. for 8.1 billion, and in March 2022 we completed our acquisition of Nuance Communications, Inc. for 18.8 billion. In January 2022 we announced a definitive agreement to acquire Activision Blizzard, Inc. for 68.7 billion. These acquisitions and other transactions and arrangements involve significant challenges and risks, including that they do not advance our business strategy, that we get an unsatisfactory return on our investment, that we have difficulty integrating and retaining new employees, business systems, and technology, that they distract management from our other businesses, or that announced transactions may not be completed. If an arrangement fails to adequately anticipate changing circumstances and interests of a party, it may result in early termination or renegotiation of the arrangement. The success of these transactions and arrangements will depend in part on our ability to leverage them to enhance our existing products and services or develop compelling new ones. It may take longer than expected to realize the full benefits from these transactions and arrangements such as increased revenue or enhanced efficiencies, or the benefits may ultimately be smaller than we expected. These events could adversely affect our consolidated financial statements.\n",
      "start_idx: 14, end_idx: 14\n",
      "span: recorded\n"
     ]
    }
   ],
   "source": [
    "from transformers import DPRReader, DPRReaderTokenizer\n",
    "\n",
    "tokenizer = DPRReaderTokenizer.from_pretrained(\"facebook/dpr-reader-multiset-base\")\n",
    "model = DPRReader.from_pretrained(\"facebook/dpr-reader-multiset-base\")\n",
    "\n",
    "query = \"What company does micfrosoft acquire?\"\n",
    "# reference = utils.retrieve_paragraph_from_docid(\"20220426_10-Q_789019_part2_item1a_para28\")\n",
    "\n",
    "encoded_inputs = tokenizer(\n",
    "    questions=[\"What is love ?\"],\n",
    "    texts=[\"'What Is Love' is a song recorded by the artist Haddaway\"],\n",
    "    return_tensors=\"pt\",\n",
    "    )\n",
    "\n",
    "print(encoded_inputs['input_ids'].shape)\n",
    "\n",
    "outputs = model(**encoded_inputs)\n",
    "start_logits = outputs.start_logits\n",
    "end_logits = outputs.end_logits\n",
    "relevance_logits = outputs.relevance_logits\n",
    "\n",
    "start_idx = torch.argmax(torch.softmax(start_logits, dim=-1))\n",
    "end_idx = torch.argmax(torch.softmax(end_logits, dim=-1))\n",
    "\n",
    "# visualize the highlighted span\n",
    "answer_tokens = encoded_inputs['input_ids'][0][start_idx : end_idx + 1]\n",
    "answer = tokenizer.decode(answer_tokens, skip_special_tokens=True)\n",
    "\n",
    "print(f\"reference: {reference}\")\n",
    "print(f\"start_idx: {start_idx}, end_idx: {end_idx}\")\n",
    "print(f\"span: {answer}\")"
   ]
  }
 ],
 "metadata": {
  "language_info": {
   "name": "python"
  }
 },
 "nbformat": 4,
 "nbformat_minor": 2
}
